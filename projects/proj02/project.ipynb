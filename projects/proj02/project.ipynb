{
 "cells": [
  {
   "cell_type": "code",
   "execution_count": 12,
   "id": "68b6ff65",
   "metadata": {
    "deletable": false,
    "editable": false
   },
   "outputs": [],
   "source": [
    "# Initialize Otter\n",
    "import otter\n",
    "grader = otter.Notebook(\"project.ipynb\")"
   ]
  },
  {
   "cell_type": "markdown",
   "id": "a354ae6a",
   "metadata": {},
   "source": [
    "# Project 2 – Loan Applications 💸\n",
    "\n",
    "## DSC 80, Fal 2025\n",
    "\n",
    "<!-- ### Checkpoint Due Date (Questions 1 and 2): Friday, April 26th -->\n",
    "\n",
    "### Check Point Due Date (Questions 1 and 2): Thursday, October 23rd 11:59 PM\n",
    "### Due Date: Thursday, October 30th 11:59 PM\n"
   ]
  },
  {
   "cell_type": "markdown",
   "id": "28930bd5",
   "metadata": {},
   "source": [
    "## Instructions\n",
    "\n",
    "---\n",
    "\n",
    "### Working on the Project\n",
    "\n",
    "This Jupyter Notebook contains the statements of the problems and provides code and Markdown cells to display your answers to the problems.\n",
    "\n",
    "* Like the lab, your coding work will be developed in the accompanying `project.py` file, that will be imported into the current notebook. This code will be autograded.\n",
    "    * We may manually grade part of your answer to Question 4 (`argument_for_nmar`), but the rest will be fully autograded, and all you will need to submit is `project.py`.\n",
    "    \n",
    "    \n",
    "<!-- * **For the Checkpoint, which is required, you only need to turn in a `project.py` containing solutions for Questions 1 and 2!**\n",
    "    - The \"Project 2 Checkpoint\" autograder on Gradescope does not thoroughly check your code – it only runs the public tests on Questions 1 and 2 to make sure that you have completed them. There are no hidden tests for the checkpoint, and you will see your score upon submission. \n",
    "    - When you submit the final version of the project, however, we will use hidden tests to check your answers more thoroughly.\n",
    "    - Note that this means you will ultimately have to submit the project twice – once to the \"Project 2 Checkpoint\" autograder (Questions 1 and 2 only), and once to the \"Project 2\" autograder (once you're fully done). -->\n",
    "    \n",
    "    \n",
    "- **Do not change the function names in `project.py` file!** The functions in `project.py` are how your assignment is graded, and they are graded by their name. If you changed something you weren't supposed to, you can find the original code in the [course GitHub repository](https://github.com/dsc-courses/dsc80-2025-fa/tree/main).\n",
    "- **To ensure that all of your work to be submitted is in `project.py`, we've included a script named `project-validation.py` in the project folder. You shouldn't edit it, but instead, you should call it from the command line (e.g. the Terminal) to test your work.** More details on its usage are given at the bottom of this notebook.\n",
    "- You are encouraged to write your own additional helper functions to solve the project, as long as they also end up in `project.py`.\n",
    "\n",
    "### Warning! 🚨\n",
    "\n",
    "Many questions in the project intentionally build off of each other and the final result matters! In fact, you can \"get a question correct,\" but only receive partial credit for it because a previous answer was wrong.\n",
    "\n",
    "For any questions that related with number rounding, please be aware that `np.round()` and `round()` function differently. For this assignment, use `round()` when needed as it is the function we will utilize in the tests.\n",
    "\n",
    "### Working with a Partner 👯\n",
    "\n",
    "You may work together on projects (and projects only!) with a partner. If you work with a partner, you are both required to actively contribute to all parts of the project. You must both be working on the assignment at the same time together, either physically or virtually on a Zoom call. You are encouraged to follow the pair programming model, in which you work on just a single computer and alternate who writes the code and who thinks about the problems at a high level.\n",
    "\n",
    "In particular, you **cannot** split up the project and each work on separate parts independently.\n",
    "\n",
    "Note that if you do work with a partner, you and your partner must submit the Checkpoint together and the whole project together. See [here](https://dsc80.com/syllabus.html) for more details."
   ]
  },
  {
   "cell_type": "code",
   "execution_count": 13,
   "id": "5999a3ca",
   "metadata": {},
   "outputs": [
    {
     "name": "stdout",
     "output_type": "stream",
     "text": [
      "The autoreload extension is already loaded. To reload it, use:\n",
      "  %reload_ext autoreload\n"
     ]
    }
   ],
   "source": [
    "%load_ext autoreload\n",
    "%autoreload 2"
   ]
  },
  {
   "cell_type": "code",
   "execution_count": 14,
   "id": "580b562d",
   "metadata": {},
   "outputs": [],
   "source": [
    "import pandas as pd\n",
    "import numpy as np\n",
    "from pathlib import Path\n",
    "\n",
    "import plotly.express as px\n",
    "import plotly.graph_objects as go\n",
    "import plotly.io as pio\n",
    "pd.options.plotting.backend = 'plotly'\n",
    "\n",
    "from IPython.display import display\n",
    "\n",
    "# DSC 80 preferred styles\n",
    "pio.templates[\"dsc80\"] = go.layout.Template(\n",
    "    layout=dict(\n",
    "        margin=dict(l=30, r=30, t=30, b=30),\n",
    "        autosize=True,\n",
    "        width=600,\n",
    "        height=400,\n",
    "        xaxis=dict(showgrid=True),\n",
    "        yaxis=dict(showgrid=True),\n",
    "        title=dict(x=0.5, xanchor=\"center\"),\n",
    "    )\n",
    ")\n",
    "pio.templates.default = \"simple_white+dsc80\"\n",
    "\n",
    "import plotly.figure_factory as ff\n",
    "def create_kde_plotly(df, group_col, group1, group2, vals_col, title=''):\n",
    "    fig = ff.create_distplot(\n",
    "        hist_data=[df.loc[df[group_col] == group1, vals_col], df.loc[df[group_col] == group2, vals_col]],\n",
    "        group_labels=[group1, group2],\n",
    "        show_rug=False, show_hist=False\n",
    "    )\n",
    "    return fig.update_layout(title=title)"
   ]
  },
  {
   "cell_type": "code",
   "execution_count": 15,
   "id": "03ee23d0",
   "metadata": {},
   "outputs": [],
   "source": [
    "from project import *"
   ]
  },
  {
   "cell_type": "markdown",
   "id": "6f4c667b",
   "metadata": {},
   "source": [
    "## About the Assignment 🧐\n",
    "\n",
    "[LendingClub](https://www.lendingclub.com/) is a platform that allows individuals to borrow money – that is, take on **loans**. They've made available a massive dataset with information on millions of loans they've processed. The entire dataset is over 300 MB large, and so we won't work with it here – instead, we'll work with a sample from it.\n",
    "\n",
    "Run the cell below to load in this sample from the file `data/loans.csv`."
   ]
  },
  {
   "cell_type": "code",
   "execution_count": 16,
   "id": "d73a87aa",
   "metadata": {},
   "outputs": [
    {
     "data": {
      "text/html": [
       "<div>\n",
       "<style scoped>\n",
       "    .dataframe tbody tr th:only-of-type {\n",
       "        vertical-align: middle;\n",
       "    }\n",
       "\n",
       "    .dataframe tbody tr th {\n",
       "        vertical-align: top;\n",
       "    }\n",
       "\n",
       "    .dataframe thead th {\n",
       "        text-align: right;\n",
       "    }\n",
       "</style>\n",
       "<table border=\"1\" class=\"dataframe\">\n",
       "  <thead>\n",
       "    <tr style=\"text-align: right;\">\n",
       "      <th></th>\n",
       "      <th>id</th>\n",
       "      <th>loan_amnt</th>\n",
       "      <th>issue_d</th>\n",
       "      <th>term</th>\n",
       "      <th>int_rate</th>\n",
       "      <th>grade</th>\n",
       "      <th>sub_grade</th>\n",
       "      <th>emp_title</th>\n",
       "      <th>verification_status</th>\n",
       "      <th>home_ownership</th>\n",
       "      <th>annual_inc</th>\n",
       "      <th>loan_status</th>\n",
       "      <th>purpose</th>\n",
       "      <th>desc</th>\n",
       "      <th>addr_state</th>\n",
       "      <th>dti</th>\n",
       "      <th>fico_range_low</th>\n",
       "      <th>fico_range_high</th>\n",
       "      <th>hardship_flag</th>\n",
       "      <th>mths_since_last_delinq</th>\n",
       "    </tr>\n",
       "  </thead>\n",
       "  <tbody>\n",
       "    <tr>\n",
       "      <th>0</th>\n",
       "      <td>17965023</td>\n",
       "      <td>18000.0</td>\n",
       "      <td>Jun-2014</td>\n",
       "      <td>60 months</td>\n",
       "      <td>16.99</td>\n",
       "      <td>D</td>\n",
       "      <td>D3</td>\n",
       "      <td>sales</td>\n",
       "      <td>Source Verified</td>\n",
       "      <td>RENT</td>\n",
       "      <td>60000.0</td>\n",
       "      <td>Charged Off</td>\n",
       "      <td>debt_consolidation</td>\n",
       "      <td>NaN</td>\n",
       "      <td>MN</td>\n",
       "      <td>23.22</td>\n",
       "      <td>700.0</td>\n",
       "      <td>704.0</td>\n",
       "      <td>N</td>\n",
       "      <td>72.0</td>\n",
       "    </tr>\n",
       "    <tr>\n",
       "      <th>1</th>\n",
       "      <td>111414087</td>\n",
       "      <td>10000.0</td>\n",
       "      <td>Jun-2017</td>\n",
       "      <td>36 months</td>\n",
       "      <td>16.02</td>\n",
       "      <td>C</td>\n",
       "      <td>C5</td>\n",
       "      <td>mechanic</td>\n",
       "      <td>Source Verified</td>\n",
       "      <td>OWN</td>\n",
       "      <td>50000.0</td>\n",
       "      <td>Current</td>\n",
       "      <td>home_improvement</td>\n",
       "      <td>NaN</td>\n",
       "      <td>IL</td>\n",
       "      <td>6.14</td>\n",
       "      <td>680.0</td>\n",
       "      <td>684.0</td>\n",
       "      <td>N</td>\n",
       "      <td>6.0</td>\n",
       "    </tr>\n",
       "    <tr>\n",
       "      <th>2</th>\n",
       "      <td>95219557</td>\n",
       "      <td>12800.0</td>\n",
       "      <td>Dec-2016</td>\n",
       "      <td>36 months</td>\n",
       "      <td>7.99</td>\n",
       "      <td>A</td>\n",
       "      <td>A5</td>\n",
       "      <td>general manager</td>\n",
       "      <td>Not Verified</td>\n",
       "      <td>MORTGAGE</td>\n",
       "      <td>47500.0</td>\n",
       "      <td>Fully Paid</td>\n",
       "      <td>debt_consolidation</td>\n",
       "      <td>NaN</td>\n",
       "      <td>MO</td>\n",
       "      <td>12.89</td>\n",
       "      <td>705.0</td>\n",
       "      <td>709.0</td>\n",
       "      <td>N</td>\n",
       "      <td>66.0</td>\n",
       "    </tr>\n",
       "    <tr>\n",
       "      <th>3</th>\n",
       "      <td>142831837</td>\n",
       "      <td>16000.0</td>\n",
       "      <td>Oct-2018</td>\n",
       "      <td>60 months</td>\n",
       "      <td>23.40</td>\n",
       "      <td>E</td>\n",
       "      <td>E1</td>\n",
       "      <td>nurse</td>\n",
       "      <td>Source Verified</td>\n",
       "      <td>MORTGAGE</td>\n",
       "      <td>120000.0</td>\n",
       "      <td>Current</td>\n",
       "      <td>home_improvement</td>\n",
       "      <td>NaN</td>\n",
       "      <td>FL</td>\n",
       "      <td>5.66</td>\n",
       "      <td>670.0</td>\n",
       "      <td>674.0</td>\n",
       "      <td>N</td>\n",
       "      <td>NaN</td>\n",
       "    </tr>\n",
       "    <tr>\n",
       "      <th>4</th>\n",
       "      <td>140113255</td>\n",
       "      <td>40000.0</td>\n",
       "      <td>Sep-2018</td>\n",
       "      <td>60 months</td>\n",
       "      <td>7.84</td>\n",
       "      <td>A</td>\n",
       "      <td>A4</td>\n",
       "      <td>staff pharmacist</td>\n",
       "      <td>Verified</td>\n",
       "      <td>MORTGAGE</td>\n",
       "      <td>150000.0</td>\n",
       "      <td>Current</td>\n",
       "      <td>debt_consolidation</td>\n",
       "      <td>NaN</td>\n",
       "      <td>MN</td>\n",
       "      <td>12.24</td>\n",
       "      <td>735.0</td>\n",
       "      <td>739.0</td>\n",
       "      <td>N</td>\n",
       "      <td>NaN</td>\n",
       "    </tr>\n",
       "  </tbody>\n",
       "</table>\n",
       "</div>"
      ],
      "text/plain": [
       "          id  loan_amnt   issue_d        term  int_rate grade sub_grade  \\\n",
       "0   17965023    18000.0  Jun-2014   60 months     16.99     D        D3   \n",
       "1  111414087    10000.0  Jun-2017   36 months     16.02     C        C5   \n",
       "2   95219557    12800.0  Dec-2016   36 months      7.99     A        A5   \n",
       "3  142831837    16000.0  Oct-2018   60 months     23.40     E        E1   \n",
       "4  140113255    40000.0  Sep-2018   60 months      7.84     A        A4   \n",
       "\n",
       "          emp_title verification_status home_ownership  annual_inc  \\\n",
       "0             sales     Source Verified           RENT     60000.0   \n",
       "1          mechanic     Source Verified            OWN     50000.0   \n",
       "2   general manager        Not Verified       MORTGAGE     47500.0   \n",
       "3             nurse     Source Verified       MORTGAGE    120000.0   \n",
       "4  staff pharmacist            Verified       MORTGAGE    150000.0   \n",
       "\n",
       "   loan_status             purpose desc addr_state    dti  fico_range_low  \\\n",
       "0  Charged Off  debt_consolidation  NaN         MN  23.22           700.0   \n",
       "1      Current    home_improvement  NaN         IL   6.14           680.0   \n",
       "2   Fully Paid  debt_consolidation  NaN         MO  12.89           705.0   \n",
       "3      Current    home_improvement  NaN         FL   5.66           670.0   \n",
       "4      Current  debt_consolidation  NaN         MN  12.24           735.0   \n",
       "\n",
       "   fico_range_high hardship_flag  mths_since_last_delinq  \n",
       "0            704.0             N                    72.0  \n",
       "1            684.0             N                     6.0  \n",
       "2            709.0             N                    66.0  \n",
       "3            674.0             N                     NaN  \n",
       "4            739.0             N                     NaN  "
      ]
     },
     "execution_count": 16,
     "metadata": {},
     "output_type": "execute_result"
    }
   ],
   "source": [
    "loans_path = Path('data') / 'loans.csv'\n",
    "loans = pd.read_csv(loans_path)\n",
    "loans.head()"
   ]
  },
  {
   "cell_type": "markdown",
   "id": "4be1ac1a",
   "metadata": {},
   "source": [
    "Each row of the dataset corresponds to a different loan that the LendingClub approved and paid out. Some of the key columns are:\n",
    "- `'loan_amnt' (float)`: the amount of the loan, or how much the borrower borrowed.\n",
    "- `'issue_d' (str)`: the date on which the loan was issued.\n",
    "- `'term' (str)`: the length of the loan, that is, the amount of time the borrower has to pay the loan back.\n",
    "- `'int_rate' (float)`: the interest rate the borrower will pay on their loan amount.\n",
    "\n",
    "First, it's worth exploring the distribution of loan amounts. You'll see that the largest possible loan given out through LendingClub was \\\\$40,000."
   ]
  },
  {
   "cell_type": "code",
   "execution_count": 17,
   "id": "cda3e723",
   "metadata": {},
   "outputs": [
    {
     "data": {
      "text/plain": [
       "count     6300.000000\n",
       "mean     15568.801587\n",
       "std       7398.968439\n",
       "min       1000.000000\n",
       "25%      10400.000000\n",
       "50%      15000.000000\n",
       "75%      19125.000000\n",
       "max      40000.000000\n",
       "Name: loan_amnt, dtype: float64"
      ]
     },
     "execution_count": 17,
     "metadata": {},
     "output_type": "execute_result"
    }
   ],
   "source": [
    "loans['loan_amnt'].describe()"
   ]
  },
  {
   "cell_type": "markdown",
   "id": "82523b7d",
   "metadata": {},
   "source": [
    "Note that when a borrower is approved for a loan, they are presented with multiple offers with different loan terms and interest rates. **Larger interest rates make the loan more expensive for the borrower – as a borrower, you want a lower interest rate!** You'll note that even for the same loan amount, different borrowers were approved for different terms and interest rates. Take a look below:"
   ]
  },
  {
   "cell_type": "code",
   "execution_count": 18,
   "id": "0cf54525",
   "metadata": {},
   "outputs": [
    {
     "data": {
      "text/html": [
       "<div>\n",
       "<style scoped>\n",
       "    .dataframe tbody tr th:only-of-type {\n",
       "        vertical-align: middle;\n",
       "    }\n",
       "\n",
       "    .dataframe tbody tr th {\n",
       "        vertical-align: top;\n",
       "    }\n",
       "\n",
       "    .dataframe thead th {\n",
       "        text-align: right;\n",
       "    }\n",
       "</style>\n",
       "<table border=\"1\" class=\"dataframe\">\n",
       "  <thead>\n",
       "    <tr style=\"text-align: right;\">\n",
       "      <th></th>\n",
       "      <th>loan_amnt</th>\n",
       "      <th>term</th>\n",
       "      <th>int_rate</th>\n",
       "    </tr>\n",
       "  </thead>\n",
       "  <tbody>\n",
       "    <tr>\n",
       "      <th>249</th>\n",
       "      <td>3600.0</td>\n",
       "      <td>36 months</td>\n",
       "      <td>24.50</td>\n",
       "    </tr>\n",
       "    <tr>\n",
       "      <th>626</th>\n",
       "      <td>3600.0</td>\n",
       "      <td>36 months</td>\n",
       "      <td>13.99</td>\n",
       "    </tr>\n",
       "    <tr>\n",
       "      <th>1020</th>\n",
       "      <td>3600.0</td>\n",
       "      <td>36 months</td>\n",
       "      <td>11.49</td>\n",
       "    </tr>\n",
       "    <tr>\n",
       "      <th>2141</th>\n",
       "      <td>3600.0</td>\n",
       "      <td>36 months</td>\n",
       "      <td>10.08</td>\n",
       "    </tr>\n",
       "    <tr>\n",
       "      <th>2145</th>\n",
       "      <td>3600.0</td>\n",
       "      <td>36 months</td>\n",
       "      <td>5.32</td>\n",
       "    </tr>\n",
       "    <tr>\n",
       "      <th>2584</th>\n",
       "      <td>3600.0</td>\n",
       "      <td>36 months</td>\n",
       "      <td>16.29</td>\n",
       "    </tr>\n",
       "    <tr>\n",
       "      <th>2739</th>\n",
       "      <td>3600.0</td>\n",
       "      <td>36 months</td>\n",
       "      <td>8.24</td>\n",
       "    </tr>\n",
       "    <tr>\n",
       "      <th>3845</th>\n",
       "      <td>3600.0</td>\n",
       "      <td>36 months</td>\n",
       "      <td>13.66</td>\n",
       "    </tr>\n",
       "    <tr>\n",
       "      <th>4153</th>\n",
       "      <td>3600.0</td>\n",
       "      <td>36 months</td>\n",
       "      <td>12.59</td>\n",
       "    </tr>\n",
       "    <tr>\n",
       "      <th>4368</th>\n",
       "      <td>3600.0</td>\n",
       "      <td>36 months</td>\n",
       "      <td>14.08</td>\n",
       "    </tr>\n",
       "    <tr>\n",
       "      <th>4575</th>\n",
       "      <td>3600.0</td>\n",
       "      <td>36 months</td>\n",
       "      <td>16.46</td>\n",
       "    </tr>\n",
       "    <tr>\n",
       "      <th>4959</th>\n",
       "      <td>3600.0</td>\n",
       "      <td>36 months</td>\n",
       "      <td>10.75</td>\n",
       "    </tr>\n",
       "    <tr>\n",
       "      <th>4984</th>\n",
       "      <td>3600.0</td>\n",
       "      <td>36 months</td>\n",
       "      <td>13.99</td>\n",
       "    </tr>\n",
       "    <tr>\n",
       "      <th>5478</th>\n",
       "      <td>3600.0</td>\n",
       "      <td>60 months</td>\n",
       "      <td>10.59</td>\n",
       "    </tr>\n",
       "    <tr>\n",
       "      <th>5560</th>\n",
       "      <td>3600.0</td>\n",
       "      <td>36 months</td>\n",
       "      <td>19.99</td>\n",
       "    </tr>\n",
       "    <tr>\n",
       "      <th>5693</th>\n",
       "      <td>3600.0</td>\n",
       "      <td>36 months</td>\n",
       "      <td>13.99</td>\n",
       "    </tr>\n",
       "    <tr>\n",
       "      <th>6113</th>\n",
       "      <td>3600.0</td>\n",
       "      <td>36 months</td>\n",
       "      <td>15.59</td>\n",
       "    </tr>\n",
       "  </tbody>\n",
       "</table>\n",
       "</div>"
      ],
      "text/plain": [
       "      loan_amnt        term  int_rate\n",
       "249      3600.0   36 months     24.50\n",
       "626      3600.0   36 months     13.99\n",
       "1020     3600.0   36 months     11.49\n",
       "2141     3600.0   36 months     10.08\n",
       "2145     3600.0   36 months      5.32\n",
       "2584     3600.0   36 months     16.29\n",
       "2739     3600.0   36 months      8.24\n",
       "3845     3600.0   36 months     13.66\n",
       "4153     3600.0   36 months     12.59\n",
       "4368     3600.0   36 months     14.08\n",
       "4575     3600.0   36 months     16.46\n",
       "4959     3600.0   36 months     10.75\n",
       "4984     3600.0   36 months     13.99\n",
       "5478     3600.0   60 months     10.59\n",
       "5560     3600.0   36 months     19.99\n",
       "5693     3600.0   36 months     13.99\n",
       "6113     3600.0   36 months     15.59"
      ]
     },
     "execution_count": 18,
     "metadata": {},
     "output_type": "execute_result"
    }
   ],
   "source": [
    "loans.loc[loans['loan_amnt'] == 3600, ['loan_amnt', 'term', 'int_rate']]"
   ]
  },
  {
   "cell_type": "markdown",
   "id": "d4f94aff",
   "metadata": {},
   "source": [
    "So, why do different borrowers receive different terms and interest rates, despite asking for the same amount of money? The factors that influence loan offers are complex, but it's [known](https://www.bankofamerica.com/smallbusiness/resources/post/factors-that-impact-loan-decisions-and-how-to-increase-your-approval-odds/) that some of the key factors are employment status, annual income, and credit score, among other things.\n",
    "\n",
    "In this project, we will **explore how various borrower characteristics are related to one another**, in an attempt to better understand the complexity behind loans. It's important to remember, though, that this dataset only contains information about actually approved loans, **not** all loan applications."
   ]
  },
  {
   "cell_type": "markdown",
   "id": "d136e8d4",
   "metadata": {},
   "source": [
    "\n",
    "---\n",
    "\n",
    "<a id='outline'></a>\n",
    "\n",
    "### Navigating the Project 🗺\n",
    "\n",
    "Click on the links below to navigate to different parts of the project. \n",
    "\n",
    "\n",
    "- [Part 1: Understanding Lender Decision-Making 🤔](#part1)\n",
    "    - [✅ Question 1 (Checkpoint Question)](#question1)\n",
    "    - [✅ Question 2 (Checkpoint Question)](#question2)\n",
    "    - [Question 3](#Question-3)\n",
    "    - [Question 4](#Question-4)\n",
    "- [Part 2: Calculating Disposable Incomes 💰](#part2)\n",
    "    - [Question 5](#Question-5)\n",
    "    - [Question 6](#Question-6)\n",
    "    - [Question 7](#Question-7)\n",
    "    - [Question 8](#Question-8)\n",
    "- [Part 3: Identifying Simpson's Paradox 🙃](#part3)\n",
    "    - [Question 9](#Question-9)\n",
    "    - [Question 10](#Question-10)\n",
    "    \n",
    "---\n",
    "<!--     - [✅ Question 1 (Checkpoint Question)](#Question-1)\n",
    "    - [✅ Question 2 (Checkpoint Question)](#Question-2) -->"
   ]
  },
  {
   "cell_type": "markdown",
   "id": "4e772533",
   "metadata": {},
   "source": [
    "<a id='part1'></a>\n",
    "\n",
    "## Part 1: Understanding Lender Decision-Making 🤔\n",
    "\n",
    "([return to the outline](#outline))\n",
    "\n",
    "As mentioned above, the dataset we have only has information about approved loans – we don't have information about individuals who applied for loans and weren't approved. That means that we can't directly study what distinguishes successful loan applications from unsuccessful ones.\n",
    "\n",
    "We'll start by understanding the **quantitative risks** that lenders assess when deciding what terms and interest rates to give to borrowers. Lenders typically charge higher interest rates to borrowers they perceive as high-risk. This practice serves several purposes: it offsets potential losses from unpaid debts, discourages excessively risky lending, and ensures that the higher returns from these loans can cover defaults. \n",
    "\n",
    "The first quantitative metric we'll look at is **debt-to-income (DTI) ratio**. Understanding the impact of such a metric on interest rates helps us in evaluating how lenders quantify risk.\n",
    "\n",
    "<!-- The realm of lender decision-making is complex and multifaceted, influenced by a blend of traditional and non-traditional metrics. Our motivation is to delve into this domain and comprehend financial indicators, starting with: \n",
    " -->\n",
    " \n",
    "<!-- **Quantitative Risks:** Traditional metrics like **Debt-to-Income (DTI)** ratio and annual income are quantifiable and offer a concrete basis for assessing a borrower's financial health. \n",
    " -->\n",
    "<br/>\n",
    "\n",
    "$$\n",
    "\\text{DTI} = \\left( \\frac{\\text{Total Monthly Debt Payments}}{\\text{Gross Monthly Income}} \\right) \\cdot 100 \n",
    "$$\n",
    "\n",
    "<br/>\n",
    "\n",
    "Note that you don't need to calculate DTIs – they are already provided for us in the `'dti'` column of `loans`.\n",
    "\n",
    "\n",
    "A low DTI indicates that a borrower is less likely to face financial strain from taking on additional debt, making them a lower risk to lenders. Conversely, a high DTI may signal financial overextension, suggesting a higher risk for default – that is, a higher risk that the borrower won't pay back the loan. \n",
    "\n",
    "When a lender perceives a higher risk of default, they often charge a higher interest rate. Let's see if this correlation is present in our dataset by looking a scatter plot of interest rate (`'int_rate'`) vs DTI (`'dti'`)."
   ]
  },
  {
   "cell_type": "code",
   "execution_count": 19,
   "id": "f1343ac9",
   "metadata": {},
   "outputs": [],
   "source": [
    "# Note: If the plot below doesn't appear, uncomment and run the following line.\n",
    "# It will make all plotly plots render in a new browser tab.\n",
    "# This is more inconvenient, but should bypass any rendering issues.\n",
    "\n",
    "# pio.renderers.default = 'browser'"
   ]
  },
  {
   "cell_type": "code",
   "execution_count": 20,
   "id": "9a2edaae",
   "metadata": {},
   "outputs": [
    {
     "data": {
      "application/vnd.plotly.v1+json": {
       "config": {
        "plotlyServerURL": "https://plot.ly"
       },
       "data": [
        {
         "hovertemplate": "Debt-to-Income Ratio=%{x}<br>Interest Rate (%)=%{y}<extra></extra>",
         "legendgroup": "",
         "marker": {
          "color": "#1F77B4",
          "symbol": "circle"
         },
         "mode": "markers",
         "name": "",
         "orientation": "v",
         "showlegend": false,
         "type": "scatter",
         "x": [
          13.42,
          30.26,
          36.39,
          15.67,
          27.89,
          14.02,
          8.82,
          23.76,
          22.29,
          21.83,
          14.81,
          31.04,
          34.79,
          11.48,
          2.83,
          9.54,
          9.14,
          25.78,
          27.5,
          19.17,
          11.98,
          15.21,
          1.6,
          29.33,
          4.21,
          16.23,
          19.65,
          15.05,
          27.05,
          22.72,
          27.19,
          22.27,
          19.98,
          15,
          7.46,
          5.2,
          5.41,
          21.09,
          15.03,
          13.93,
          32.2,
          24.09,
          21.42,
          26.46,
          9.77,
          10.79,
          26.61,
          11.15,
          20.72,
          19.85,
          26.98,
          14.38,
          15.67,
          27.09,
          18.5,
          27.44,
          18.24,
          30.88,
          20.45,
          8.33,
          13.77,
          25.06,
          8.26,
          5.66,
          18.85,
          17.74,
          17.78,
          27.09,
          22.8,
          17.61,
          17.27,
          15.74,
          16.34,
          22.36,
          21.43,
          9.54,
          9.75,
          14.28,
          21.46,
          4.83,
          3.36,
          19.48,
          38.6,
          2.08,
          10.72,
          6.06,
          11.57,
          12,
          14.43,
          33.78,
          21.09,
          8.88,
          27.66,
          13.91,
          18.27,
          17.96,
          19.26,
          25.15,
          18.9,
          5.97,
          25.58,
          4.9,
          19.51,
          21.06,
          15.75,
          13.73,
          28.31,
          29.93,
          13.41,
          3.9,
          17.28,
          15.91,
          12.32,
          13.45,
          21.75,
          22.58,
          29.44,
          33.99,
          23,
          33.62,
          2.38,
          8.95,
          24.68,
          52.92,
          25.91,
          15.01,
          16.97,
          15.28,
          16.97,
          23.02,
          31.75,
          17.1,
          11.57,
          22.3,
          8.4,
          17.25,
          17.17,
          14.32,
          15.25,
          13.91,
          12.35,
          15.61,
          5.85,
          24.51,
          16.65,
          7.06,
          18,
          27.26,
          9.27,
          31.16,
          28.61,
          25.25,
          22.45,
          23.35,
          10.43,
          13.85,
          12.41,
          31.02,
          17.64,
          17.94,
          4.97,
          14.11,
          5.49,
          20.9,
          16.72,
          21.39,
          13.01,
          11.66,
          8.61,
          26.01,
          18.89,
          17.11,
          17.51,
          0.01,
          21.75,
          29.41,
          25.78,
          15.93,
          18.76,
          28.97,
          19.26,
          27.98,
          17.91,
          7.85,
          7.74,
          26.49,
          21.09,
          26.02,
          7.45,
          20.33,
          19.41,
          7.5,
          24.4,
          24.53,
          26.23,
          2.22,
          12.14,
          9.58,
          18.16,
          21.05
         ],
         "xaxis": "x",
         "y": [
          10.47,
          5.31,
          13.98,
          17.09,
          14.64,
          15.31,
          8.24,
          11.99,
          19.99,
          12.29,
          15.05,
          16.01,
          20,
          12.12,
          13.35,
          11.53,
          16.29,
          13.67,
          11.99,
          14.08,
          11.99,
          7.49,
          10.99,
          18.25,
          6.46,
          12.39,
          10.72,
          11.98,
          13.49,
          19.52,
          10.99,
          11.55,
          21.45,
          6.17,
          9.49,
          7.39,
          23.4,
          8.38,
          11.49,
          11.47,
          22.91,
          10.47,
          14.65,
          18.49,
          10.75,
          7.97,
          9.16,
          16.29,
          7.35,
          5.32,
          25.29,
          8.39,
          8.59,
          16.99,
          18.25,
          7.89,
          11.49,
          10.42,
          10.56,
          14.65,
          7.89,
          13.67,
          10.99,
          7.99,
          15.61,
          16.24,
          10.41,
          10.47,
          9.93,
          21.97,
          14.08,
          6.49,
          16.55,
          15.8,
          21.45,
          6.49,
          9.44,
          10.15,
          12.73,
          12.49,
          10.91,
          9.17,
          15.61,
          13.68,
          7.07,
          16.91,
          13.06,
          5.32,
          13.99,
          17.09,
          6.99,
          10.9,
          15.1,
          23.4,
          8.24,
          7.97,
          10.08,
          11.39,
          8.24,
          10.07,
          12.69,
          13.11,
          21.98,
          15.05,
          15.04,
          7.97,
          14.99,
          11.55,
          11.49,
          6.99,
          14.49,
          10.9,
          5.32,
          6.03,
          6.49,
          16.02,
          10.42,
          25.82,
          13.99,
          7.97,
          16.29,
          23.99,
          6.62,
          12.61,
          14.08,
          11.39,
          5.32,
          7.89,
          12.62,
          6.67,
          18.54,
          10.99,
          7.24,
          17.1,
          12.49,
          27.27,
          10.99,
          14.47,
          7.21,
          12.99,
          19.92,
          13.33,
          9.49,
          13.56,
          8.9,
          9.99,
          12.39,
          12.73,
          8.99,
          16.02,
          24.85,
          17.86,
          6.67,
          15.61,
          29.69,
          22.35,
          8.18,
          16.46,
          11.99,
          6.24,
          17.86,
          6.68,
          18.99,
          7.97,
          6.07,
          5.32,
          12.62,
          19.52,
          8.99,
          12.99,
          21.99,
          16.02,
          16.2,
          11.44,
          10.33,
          19.05,
          9.44,
          7.26,
          16.29,
          13.35,
          6.89,
          10.75,
          28.72,
          5.32,
          13.99,
          13.99,
          17.27,
          18.45,
          15.31,
          14.65,
          12.29,
          11.44,
          9.44,
          15.31,
          17.57,
          10.72,
          6.08,
          14.47,
          11.49,
          11.67
         ],
         "yaxis": "y"
        },
        {
         "hovertemplate": "<b>OLS trendline</b><br>int_rate = 0.105557 * dti + 10.9694<br>R<sup>2</sup>=0.031603<br><br>Debt-to-Income Ratio=%{x}<br>Interest Rate (%)=%{y} <b>(trend)</b><extra></extra>",
         "legendgroup": "",
         "line": {
          "color": "orange"
         },
         "marker": {
          "color": "#1F77B4",
          "symbol": "circle"
         },
         "mode": "lines",
         "name": "",
         "showlegend": false,
         "type": "scatter",
         "x": [
          0.01,
          1.6,
          2.08,
          2.22,
          2.38,
          2.83,
          3.36,
          3.9,
          4.21,
          4.83,
          4.9,
          4.97,
          5.2,
          5.41,
          5.49,
          5.66,
          5.85,
          5.97,
          6.06,
          7.06,
          7.45,
          7.46,
          7.5,
          7.74,
          7.85,
          8.26,
          8.33,
          8.4,
          8.61,
          8.82,
          8.88,
          8.95,
          9.14,
          9.27,
          9.54,
          9.54,
          9.58,
          9.75,
          9.77,
          10.43,
          10.72,
          10.79,
          11.15,
          11.48,
          11.57,
          11.57,
          11.66,
          11.98,
          12,
          12.14,
          12.32,
          12.35,
          12.41,
          13.01,
          13.41,
          13.42,
          13.45,
          13.73,
          13.77,
          13.85,
          13.91,
          13.91,
          13.93,
          14.02,
          14.11,
          14.28,
          14.32,
          14.38,
          14.43,
          14.81,
          15,
          15.01,
          15.03,
          15.05,
          15.21,
          15.25,
          15.28,
          15.61,
          15.67,
          15.67,
          15.74,
          15.75,
          15.91,
          15.93,
          16.23,
          16.34,
          16.65,
          16.72,
          16.97,
          16.97,
          17.1,
          17.11,
          17.17,
          17.25,
          17.27,
          17.28,
          17.51,
          17.61,
          17.64,
          17.74,
          17.78,
          17.91,
          17.94,
          17.96,
          18,
          18.16,
          18.24,
          18.27,
          18.5,
          18.76,
          18.85,
          18.89,
          18.9,
          19.17,
          19.26,
          19.26,
          19.41,
          19.48,
          19.51,
          19.65,
          19.85,
          19.98,
          20.33,
          20.45,
          20.72,
          20.9,
          21.05,
          21.06,
          21.09,
          21.09,
          21.09,
          21.39,
          21.42,
          21.43,
          21.46,
          21.75,
          21.75,
          21.83,
          22.27,
          22.29,
          22.3,
          22.36,
          22.45,
          22.58,
          22.72,
          22.8,
          23,
          23.02,
          23.35,
          23.76,
          24.09,
          24.4,
          24.51,
          24.53,
          24.68,
          25.06,
          25.15,
          25.25,
          25.58,
          25.78,
          25.78,
          25.91,
          26.01,
          26.02,
          26.23,
          26.46,
          26.49,
          26.61,
          26.98,
          27.05,
          27.09,
          27.09,
          27.19,
          27.26,
          27.44,
          27.5,
          27.66,
          27.89,
          27.98,
          28.31,
          28.61,
          28.97,
          29.33,
          29.41,
          29.44,
          29.93,
          30.26,
          30.88,
          31.02,
          31.04,
          31.16,
          31.75,
          32.2,
          33.62,
          33.78,
          33.99,
          34.79,
          36.39,
          38.6,
          52.92
         ],
         "xaxis": "x",
         "y": [
          10.970452464508378,
          11.138288812901738,
          11.188956389775205,
          11.203734433029966,
          11.220623625321123,
          11.268124478639999,
          11.324069928104452,
          11.381070952087102,
          11.413793762151217,
          11.479239382279445,
          11.486628403906826,
          11.494017425534206,
          11.518295639452743,
          11.540462704334885,
          11.548907300480463,
          11.566852067289815,
          11.586907983135564,
          11.59957487735393,
          11.609075048017706,
          11.714632499837428,
          11.755799906047121,
          11.756855480565319,
          11.761077778638107,
          11.786411567074841,
          11.79802288677501,
          11.841301442021097,
          11.848690463648477,
          11.856079485275858,
          11.878246550158,
          11.900413615040142,
          11.906747062149325,
          11.914136083776706,
          11.934191999622454,
          11.947914468359018,
          11.976414980350343,
          11.976414980350343,
          11.980637278423131,
          11.998582045232485,
          12.00069319426888,
          12.070361112469897,
          12.100972773497617,
          12.108361795124997,
          12.146362477780098,
          12.181196436880606,
          12.190696607544382,
          12.190696607544382,
          12.200196778208158,
          12.233975162790468,
          12.236086311826863,
          12.250864355081625,
          12.269864696409174,
          12.273031419963766,
          12.27936486707295,
          12.342699338164783,
          12.384922318892674,
          12.385977893410871,
          12.389144616965462,
          12.418700703474984,
          12.422923001547774,
          12.43136759769335,
          12.437701044802536,
          12.437701044802536,
          12.439812193838929,
          12.449312364502704,
          12.45881253516648,
          12.476757301975832,
          12.480979600048622,
          12.487313047157805,
          12.49259091974879,
          12.532702751440286,
          12.552758667286033,
          12.553814241804231,
          12.555925390840626,
          12.558036539877019,
          12.574925732168175,
          12.579148030240964,
          12.582314753795556,
          12.617148712896064,
          12.623482160005247,
          12.623482160005247,
          12.630871181632628,
          12.631926756150825,
          12.648815948441982,
          12.650927097478377,
          12.682594333024293,
          12.694205652724463,
          12.726928462788576,
          12.734317484415957,
          12.760706847370889,
          12.760706847370889,
          12.774429316107453,
          12.77548489062565,
          12.781818337734833,
          12.790262933880411,
          12.792374082916806,
          12.793429657435004,
          12.817707871353539,
          12.828263616535512,
          12.831430340090103,
          12.841986085272076,
          12.846208383344864,
          12.85993085208143,
          12.86309757563602,
          12.865208724672415,
          12.869431022745204,
          12.88632021503636,
          12.894764811181938,
          12.897931534736529,
          12.922209748655066,
          12.949654686128193,
          12.959154856791969,
          12.963377154864759,
          12.964432729382954,
          12.992933241374281,
          13.002433412038055,
          13.002433412038055,
          13.018267029811014,
          13.025656051438395,
          13.028822774992987,
          13.043600818247748,
          13.064712308611693,
          13.078434777348257,
          13.11537988548516,
          13.128046779703526,
          13.156547291694851,
          13.175547633022402,
          13.191381250795361,
          13.192436825313557,
          13.19560354886815,
          13.19560354886815,
          13.19560354886815,
          13.227270784414067,
          13.23043750796866,
          13.231493082486855,
          13.234659806041448,
          13.265271467069168,
          13.265271467069168,
          13.273716063214744,
          13.320161342015423,
          13.322272491051818,
          13.323328065570015,
          13.329661512679198,
          13.339161683342974,
          13.352884152079538,
          13.3676621953343,
          13.376106791479877,
          13.397218281843822,
          13.399329430880217,
          13.434163389980725,
          13.477441945226811,
          13.51227590432732,
          13.544998714391435,
          13.556610034091603,
          13.558721183127998,
          13.574554800900957,
          13.614666632592451,
          13.624166803256227,
          13.6347225484382,
          13.669556507538708,
          13.690667997902652,
          13.690667997902652,
          13.704390466639216,
          13.71494621182119,
          13.716001786339387,
          13.738168851221529,
          13.762447065140066,
          13.765613788694656,
          13.778280682913023,
          13.81733694008632,
          13.824725961713701,
          13.828948259786491,
          13.828948259786491,
          13.839504004968463,
          13.846893026595843,
          13.865893367923395,
          13.872226815032578,
          13.889116007323732,
          13.91339422124227,
          13.922894391906045,
          13.957728351006553,
          13.98939558655247,
          14.027396269207571,
          14.06539695186267,
          14.073841548008248,
          14.07700827156284,
          14.128731422954505,
          14.163565382055014,
          14.229011002183242,
          14.243789045438003,
          14.245900194474398,
          14.258567088692764,
          14.320845985266402,
          14.368346838585278,
          14.518238420169284,
          14.53512761246044,
          14.557294677342583,
          14.641740638798362,
          14.81063256170992,
          15.043914530231508,
          16.55549724028995
         ],
         "yaxis": "y"
        }
       ],
       "layout": {
        "autosize": true,
        "legend": {
         "tracegroupgap": 0
        },
        "template": {
         "data": {
          "bar": [
           {
            "error_x": {
             "color": "rgb(36,36,36)"
            },
            "error_y": {
             "color": "rgb(36,36,36)"
            },
            "marker": {
             "line": {
              "color": "white",
              "width": 0.5
             },
             "pattern": {
              "fillmode": "overlay",
              "size": 10,
              "solidity": 0.2
             }
            },
            "type": "bar"
           }
          ],
          "barpolar": [
           {
            "marker": {
             "line": {
              "color": "white",
              "width": 0.5
             },
             "pattern": {
              "fillmode": "overlay",
              "size": 10,
              "solidity": 0.2
             }
            },
            "type": "barpolar"
           }
          ],
          "carpet": [
           {
            "aaxis": {
             "endlinecolor": "rgb(36,36,36)",
             "gridcolor": "white",
             "linecolor": "white",
             "minorgridcolor": "white",
             "startlinecolor": "rgb(36,36,36)"
            },
            "baxis": {
             "endlinecolor": "rgb(36,36,36)",
             "gridcolor": "white",
             "linecolor": "white",
             "minorgridcolor": "white",
             "startlinecolor": "rgb(36,36,36)"
            },
            "type": "carpet"
           }
          ],
          "choropleth": [
           {
            "colorbar": {
             "outlinewidth": 1,
             "tickcolor": "rgb(36,36,36)",
             "ticks": "outside"
            },
            "type": "choropleth"
           }
          ],
          "contour": [
           {
            "colorbar": {
             "outlinewidth": 1,
             "tickcolor": "rgb(36,36,36)",
             "ticks": "outside"
            },
            "colorscale": [
             [
              0,
              "#440154"
             ],
             [
              0.1111111111111111,
              "#482878"
             ],
             [
              0.2222222222222222,
              "#3e4989"
             ],
             [
              0.3333333333333333,
              "#31688e"
             ],
             [
              0.4444444444444444,
              "#26828e"
             ],
             [
              0.5555555555555556,
              "#1f9e89"
             ],
             [
              0.6666666666666666,
              "#35b779"
             ],
             [
              0.7777777777777778,
              "#6ece58"
             ],
             [
              0.8888888888888888,
              "#b5de2b"
             ],
             [
              1,
              "#fde725"
             ]
            ],
            "type": "contour"
           }
          ],
          "contourcarpet": [
           {
            "colorbar": {
             "outlinewidth": 1,
             "tickcolor": "rgb(36,36,36)",
             "ticks": "outside"
            },
            "type": "contourcarpet"
           }
          ],
          "heatmap": [
           {
            "colorbar": {
             "outlinewidth": 1,
             "tickcolor": "rgb(36,36,36)",
             "ticks": "outside"
            },
            "colorscale": [
             [
              0,
              "#440154"
             ],
             [
              0.1111111111111111,
              "#482878"
             ],
             [
              0.2222222222222222,
              "#3e4989"
             ],
             [
              0.3333333333333333,
              "#31688e"
             ],
             [
              0.4444444444444444,
              "#26828e"
             ],
             [
              0.5555555555555556,
              "#1f9e89"
             ],
             [
              0.6666666666666666,
              "#35b779"
             ],
             [
              0.7777777777777778,
              "#6ece58"
             ],
             [
              0.8888888888888888,
              "#b5de2b"
             ],
             [
              1,
              "#fde725"
             ]
            ],
            "type": "heatmap"
           }
          ],
          "heatmapgl": [
           {
            "colorbar": {
             "outlinewidth": 1,
             "tickcolor": "rgb(36,36,36)",
             "ticks": "outside"
            },
            "colorscale": [
             [
              0,
              "#440154"
             ],
             [
              0.1111111111111111,
              "#482878"
             ],
             [
              0.2222222222222222,
              "#3e4989"
             ],
             [
              0.3333333333333333,
              "#31688e"
             ],
             [
              0.4444444444444444,
              "#26828e"
             ],
             [
              0.5555555555555556,
              "#1f9e89"
             ],
             [
              0.6666666666666666,
              "#35b779"
             ],
             [
              0.7777777777777778,
              "#6ece58"
             ],
             [
              0.8888888888888888,
              "#b5de2b"
             ],
             [
              1,
              "#fde725"
             ]
            ],
            "type": "heatmapgl"
           }
          ],
          "histogram": [
           {
            "marker": {
             "line": {
              "color": "white",
              "width": 0.6
             }
            },
            "type": "histogram"
           }
          ],
          "histogram2d": [
           {
            "colorbar": {
             "outlinewidth": 1,
             "tickcolor": "rgb(36,36,36)",
             "ticks": "outside"
            },
            "colorscale": [
             [
              0,
              "#440154"
             ],
             [
              0.1111111111111111,
              "#482878"
             ],
             [
              0.2222222222222222,
              "#3e4989"
             ],
             [
              0.3333333333333333,
              "#31688e"
             ],
             [
              0.4444444444444444,
              "#26828e"
             ],
             [
              0.5555555555555556,
              "#1f9e89"
             ],
             [
              0.6666666666666666,
              "#35b779"
             ],
             [
              0.7777777777777778,
              "#6ece58"
             ],
             [
              0.8888888888888888,
              "#b5de2b"
             ],
             [
              1,
              "#fde725"
             ]
            ],
            "type": "histogram2d"
           }
          ],
          "histogram2dcontour": [
           {
            "colorbar": {
             "outlinewidth": 1,
             "tickcolor": "rgb(36,36,36)",
             "ticks": "outside"
            },
            "colorscale": [
             [
              0,
              "#440154"
             ],
             [
              0.1111111111111111,
              "#482878"
             ],
             [
              0.2222222222222222,
              "#3e4989"
             ],
             [
              0.3333333333333333,
              "#31688e"
             ],
             [
              0.4444444444444444,
              "#26828e"
             ],
             [
              0.5555555555555556,
              "#1f9e89"
             ],
             [
              0.6666666666666666,
              "#35b779"
             ],
             [
              0.7777777777777778,
              "#6ece58"
             ],
             [
              0.8888888888888888,
              "#b5de2b"
             ],
             [
              1,
              "#fde725"
             ]
            ],
            "type": "histogram2dcontour"
           }
          ],
          "mesh3d": [
           {
            "colorbar": {
             "outlinewidth": 1,
             "tickcolor": "rgb(36,36,36)",
             "ticks": "outside"
            },
            "type": "mesh3d"
           }
          ],
          "parcoords": [
           {
            "line": {
             "colorbar": {
              "outlinewidth": 1,
              "tickcolor": "rgb(36,36,36)",
              "ticks": "outside"
             }
            },
            "type": "parcoords"
           }
          ],
          "pie": [
           {
            "automargin": true,
            "type": "pie"
           }
          ],
          "scatter": [
           {
            "fillpattern": {
             "fillmode": "overlay",
             "size": 10,
             "solidity": 0.2
            },
            "type": "scatter"
           }
          ],
          "scatter3d": [
           {
            "line": {
             "colorbar": {
              "outlinewidth": 1,
              "tickcolor": "rgb(36,36,36)",
              "ticks": "outside"
             }
            },
            "marker": {
             "colorbar": {
              "outlinewidth": 1,
              "tickcolor": "rgb(36,36,36)",
              "ticks": "outside"
             }
            },
            "type": "scatter3d"
           }
          ],
          "scattercarpet": [
           {
            "marker": {
             "colorbar": {
              "outlinewidth": 1,
              "tickcolor": "rgb(36,36,36)",
              "ticks": "outside"
             }
            },
            "type": "scattercarpet"
           }
          ],
          "scattergeo": [
           {
            "marker": {
             "colorbar": {
              "outlinewidth": 1,
              "tickcolor": "rgb(36,36,36)",
              "ticks": "outside"
             }
            },
            "type": "scattergeo"
           }
          ],
          "scattergl": [
           {
            "marker": {
             "colorbar": {
              "outlinewidth": 1,
              "tickcolor": "rgb(36,36,36)",
              "ticks": "outside"
             }
            },
            "type": "scattergl"
           }
          ],
          "scattermapbox": [
           {
            "marker": {
             "colorbar": {
              "outlinewidth": 1,
              "tickcolor": "rgb(36,36,36)",
              "ticks": "outside"
             }
            },
            "type": "scattermapbox"
           }
          ],
          "scatterpolar": [
           {
            "marker": {
             "colorbar": {
              "outlinewidth": 1,
              "tickcolor": "rgb(36,36,36)",
              "ticks": "outside"
             }
            },
            "type": "scatterpolar"
           }
          ],
          "scatterpolargl": [
           {
            "marker": {
             "colorbar": {
              "outlinewidth": 1,
              "tickcolor": "rgb(36,36,36)",
              "ticks": "outside"
             }
            },
            "type": "scatterpolargl"
           }
          ],
          "scatterternary": [
           {
            "marker": {
             "colorbar": {
              "outlinewidth": 1,
              "tickcolor": "rgb(36,36,36)",
              "ticks": "outside"
             }
            },
            "type": "scatterternary"
           }
          ],
          "surface": [
           {
            "colorbar": {
             "outlinewidth": 1,
             "tickcolor": "rgb(36,36,36)",
             "ticks": "outside"
            },
            "colorscale": [
             [
              0,
              "#440154"
             ],
             [
              0.1111111111111111,
              "#482878"
             ],
             [
              0.2222222222222222,
              "#3e4989"
             ],
             [
              0.3333333333333333,
              "#31688e"
             ],
             [
              0.4444444444444444,
              "#26828e"
             ],
             [
              0.5555555555555556,
              "#1f9e89"
             ],
             [
              0.6666666666666666,
              "#35b779"
             ],
             [
              0.7777777777777778,
              "#6ece58"
             ],
             [
              0.8888888888888888,
              "#b5de2b"
             ],
             [
              1,
              "#fde725"
             ]
            ],
            "type": "surface"
           }
          ],
          "table": [
           {
            "cells": {
             "fill": {
              "color": "rgb(237,237,237)"
             },
             "line": {
              "color": "white"
             }
            },
            "header": {
             "fill": {
              "color": "rgb(217,217,217)"
             },
             "line": {
              "color": "white"
             }
            },
            "type": "table"
           }
          ]
         },
         "layout": {
          "annotationdefaults": {
           "arrowhead": 0,
           "arrowwidth": 1
          },
          "autosize": true,
          "autotypenumbers": "strict",
          "coloraxis": {
           "colorbar": {
            "outlinewidth": 1,
            "tickcolor": "rgb(36,36,36)",
            "ticks": "outside"
           }
          },
          "colorscale": {
           "diverging": [
            [
             0,
             "rgb(103,0,31)"
            ],
            [
             0.1,
             "rgb(178,24,43)"
            ],
            [
             0.2,
             "rgb(214,96,77)"
            ],
            [
             0.3,
             "rgb(244,165,130)"
            ],
            [
             0.4,
             "rgb(253,219,199)"
            ],
            [
             0.5,
             "rgb(247,247,247)"
            ],
            [
             0.6,
             "rgb(209,229,240)"
            ],
            [
             0.7,
             "rgb(146,197,222)"
            ],
            [
             0.8,
             "rgb(67,147,195)"
            ],
            [
             0.9,
             "rgb(33,102,172)"
            ],
            [
             1,
             "rgb(5,48,97)"
            ]
           ],
           "sequential": [
            [
             0,
             "#440154"
            ],
            [
             0.1111111111111111,
             "#482878"
            ],
            [
             0.2222222222222222,
             "#3e4989"
            ],
            [
             0.3333333333333333,
             "#31688e"
            ],
            [
             0.4444444444444444,
             "#26828e"
            ],
            [
             0.5555555555555556,
             "#1f9e89"
            ],
            [
             0.6666666666666666,
             "#35b779"
            ],
            [
             0.7777777777777778,
             "#6ece58"
            ],
            [
             0.8888888888888888,
             "#b5de2b"
            ],
            [
             1,
             "#fde725"
            ]
           ],
           "sequentialminus": [
            [
             0,
             "#440154"
            ],
            [
             0.1111111111111111,
             "#482878"
            ],
            [
             0.2222222222222222,
             "#3e4989"
            ],
            [
             0.3333333333333333,
             "#31688e"
            ],
            [
             0.4444444444444444,
             "#26828e"
            ],
            [
             0.5555555555555556,
             "#1f9e89"
            ],
            [
             0.6666666666666666,
             "#35b779"
            ],
            [
             0.7777777777777778,
             "#6ece58"
            ],
            [
             0.8888888888888888,
             "#b5de2b"
            ],
            [
             1,
             "#fde725"
            ]
           ]
          },
          "colorway": [
           "#1F77B4",
           "#FF7F0E",
           "#2CA02C",
           "#D62728",
           "#9467BD",
           "#8C564B",
           "#E377C2",
           "#7F7F7F",
           "#BCBD22",
           "#17BECF"
          ],
          "font": {
           "color": "rgb(36,36,36)"
          },
          "geo": {
           "bgcolor": "white",
           "lakecolor": "white",
           "landcolor": "white",
           "showlakes": true,
           "showland": true,
           "subunitcolor": "white"
          },
          "height": 400,
          "hoverlabel": {
           "align": "left"
          },
          "hovermode": "closest",
          "mapbox": {
           "style": "light"
          },
          "margin": {
           "b": 30,
           "l": 30,
           "r": 30,
           "t": 30
          },
          "paper_bgcolor": "white",
          "plot_bgcolor": "white",
          "polar": {
           "angularaxis": {
            "gridcolor": "rgb(232,232,232)",
            "linecolor": "rgb(36,36,36)",
            "showgrid": false,
            "showline": true,
            "ticks": "outside"
           },
           "bgcolor": "white",
           "radialaxis": {
            "gridcolor": "rgb(232,232,232)",
            "linecolor": "rgb(36,36,36)",
            "showgrid": false,
            "showline": true,
            "ticks": "outside"
           }
          },
          "scene": {
           "xaxis": {
            "backgroundcolor": "white",
            "gridcolor": "rgb(232,232,232)",
            "gridwidth": 2,
            "linecolor": "rgb(36,36,36)",
            "showbackground": true,
            "showgrid": false,
            "showline": true,
            "ticks": "outside",
            "zeroline": false,
            "zerolinecolor": "rgb(36,36,36)"
           },
           "yaxis": {
            "backgroundcolor": "white",
            "gridcolor": "rgb(232,232,232)",
            "gridwidth": 2,
            "linecolor": "rgb(36,36,36)",
            "showbackground": true,
            "showgrid": false,
            "showline": true,
            "ticks": "outside",
            "zeroline": false,
            "zerolinecolor": "rgb(36,36,36)"
           },
           "zaxis": {
            "backgroundcolor": "white",
            "gridcolor": "rgb(232,232,232)",
            "gridwidth": 2,
            "linecolor": "rgb(36,36,36)",
            "showbackground": true,
            "showgrid": false,
            "showline": true,
            "ticks": "outside",
            "zeroline": false,
            "zerolinecolor": "rgb(36,36,36)"
           }
          },
          "shapedefaults": {
           "fillcolor": "black",
           "line": {
            "width": 0
           },
           "opacity": 0.3
          },
          "ternary": {
           "aaxis": {
            "gridcolor": "rgb(232,232,232)",
            "linecolor": "rgb(36,36,36)",
            "showgrid": false,
            "showline": true,
            "ticks": "outside"
           },
           "baxis": {
            "gridcolor": "rgb(232,232,232)",
            "linecolor": "rgb(36,36,36)",
            "showgrid": false,
            "showline": true,
            "ticks": "outside"
           },
           "bgcolor": "white",
           "caxis": {
            "gridcolor": "rgb(232,232,232)",
            "linecolor": "rgb(36,36,36)",
            "showgrid": false,
            "showline": true,
            "ticks": "outside"
           }
          },
          "title": {
           "x": 0.5,
           "xanchor": "center"
          },
          "width": 600,
          "xaxis": {
           "automargin": true,
           "gridcolor": "rgb(232,232,232)",
           "linecolor": "rgb(36,36,36)",
           "showgrid": true,
           "showline": true,
           "ticks": "outside",
           "title": {
            "standoff": 15
           },
           "zeroline": false,
           "zerolinecolor": "rgb(36,36,36)"
          },
          "yaxis": {
           "automargin": true,
           "gridcolor": "rgb(232,232,232)",
           "linecolor": "rgb(36,36,36)",
           "showgrid": true,
           "showline": true,
           "ticks": "outside",
           "title": {
            "standoff": 15
           },
           "zeroline": false,
           "zerolinecolor": "rgb(36,36,36)"
          }
         }
        },
        "title": {
         "text": "Interest Rate vs. Debt-to-Income Ratio"
        },
        "xaxis": {
         "anchor": "y",
         "autorange": true,
         "domain": [
          0,
          1
         ],
         "range": [
          -3.198722975448883,
          56.12872297544889
         ],
         "title": {
          "text": "Debt-to-Income Ratio"
         },
         "type": "linear"
        },
        "yaxis": {
         "anchor": "x",
         "autorange": true,
         "domain": [
          0,
          1
         ],
         "range": [
          3.5242038216560503,
          31.475796178343952
         ],
         "title": {
          "text": "Interest Rate (%)"
         },
         "type": "linear"
        }
       }
      },
      "image/png": "[encoded data removed]",
      "text/html": [
       "<div>                            <div id=\"ceb00242-f6dc-4ee4-80a8-34aefda1f602\" class=\"plotly-graph-div\" style=\"height:400px; width:600px;\"></div>            <script type=\"text/javascript\">                require([\"plotly\"], function(Plotly) {                    window.PLOTLYENV=window.PLOTLYENV || {};                                    if (document.getElementById(\"ceb00242-f6dc-4ee4-80a8-34aefda1f602\")) {                    Plotly.newPlot(                        \"ceb00242-f6dc-4ee4-80a8-34aefda1f602\",                        [{\"hovertemplate\":\"Debt-to-Income Ratio=%{x}\\u003cbr\\u003eInterest Rate (%)=%{y}\\u003cextra\\u003e\\u003c\\u002fextra\\u003e\",\"legendgroup\":\"\",\"marker\":{\"color\":\"#1F77B4\",\"symbol\":\"circle\"},\"mode\":\"markers\",\"name\":\"\",\"orientation\":\"v\",\"showlegend\":false,\"x\":[13.42,30.26,36.39,15.67,27.89,14.02,8.82,23.76,22.29,21.83,14.81,31.04,34.79,11.48,2.83,9.54,9.14,25.78,27.5,19.17,11.98,15.21,1.6,29.33,4.21,16.23,19.65,15.05,27.05,22.72,27.19,22.27,19.98,15.0,7.46,5.2,5.41,21.09,15.03,13.93,32.2,24.09,21.42,26.46,9.77,10.79,26.61,11.15,20.72,19.85,26.98,14.38,15.67,27.09,18.5,27.44,18.24,30.88,20.45,8.33,13.77,25.06,8.26,5.66,18.85,17.74,17.78,27.09,22.8,17.61,17.27,15.74,16.34,22.36,21.43,9.54,9.75,14.28,21.46,4.83,3.36,19.48,38.6,2.08,10.72,6.06,11.57,12.0,14.43,33.78,21.09,8.88,27.66,13.91,18.27,17.96,19.26,25.15,18.9,5.97,25.58,4.9,19.51,21.06,15.75,13.73,28.31,29.93,13.41,3.9,17.28,15.91,12.32,13.45,21.75,22.58,29.44,33.99,23.0,33.62,2.38,8.95,24.68,52.92,25.91,15.01,16.97,15.28,16.97,23.02,31.75,17.1,11.57,22.3,8.4,17.25,17.17,14.32,15.25,13.91,12.35,15.61,5.85,24.51,16.65,7.06,18.0,27.26,9.27,31.16,28.61,25.25,22.45,23.35,10.43,13.85,12.41,31.02,17.64,17.94,4.97,14.11,5.49,20.9,16.72,21.39,13.01,11.66,8.61,26.01,18.89,17.11,17.51,0.01,21.75,29.41,25.78,15.93,18.76,28.97,19.26,27.98,17.91,7.85,7.74,26.49,21.09,26.02,7.45,20.33,19.41,7.5,24.4,24.53,26.23,2.22,12.14,9.58,18.16,21.05],\"xaxis\":\"x\",\"y\":[10.47,5.31,13.98,17.09,14.64,15.31,8.24,11.99,19.99,12.29,15.05,16.01,20.0,12.12,13.35,11.53,16.29,13.67,11.99,14.08,11.99,7.49,10.99,18.25,6.46,12.39,10.72,11.98,13.49,19.52,10.99,11.55,21.45,6.17,9.49,7.39,23.4,8.38,11.49,11.47,22.91,10.47,14.65,18.49,10.75,7.97,9.16,16.29,7.35,5.32,25.29,8.39,8.59,16.99,18.25,7.89,11.49,10.42,10.56,14.65,7.89,13.67,10.99,7.99,15.61,16.24,10.41,10.47,9.93,21.97,14.08,6.49,16.55,15.8,21.45,6.49,9.44,10.15,12.73,12.49,10.91,9.17,15.61,13.68,7.07,16.91,13.06,5.32,13.99,17.09,6.99,10.9,15.1,23.4,8.24,7.97,10.08,11.39,8.24,10.07,12.69,13.11,21.98,15.05,15.04,7.97,14.99,11.55,11.49,6.99,14.49,10.9,5.32,6.03,6.49,16.02,10.42,25.82,13.99,7.97,16.29,23.99,6.62,12.61,14.08,11.39,5.32,7.89,12.62,6.67,18.54,10.99,7.24,17.1,12.49,27.27,10.99,14.47,7.21,12.99,19.92,13.33,9.49,13.56,8.9,9.99,12.39,12.73,8.99,16.02,24.85,17.86,6.67,15.61,29.69,22.35,8.18,16.46,11.99,6.24,17.86,6.68,18.99,7.97,6.07,5.32,12.62,19.52,8.99,12.99,21.99,16.02,16.2,11.44,10.33,19.05,9.44,7.26,16.29,13.35,6.89,10.75,28.72,5.32,13.99,13.99,17.27,18.45,15.31,14.65,12.29,11.44,9.44,15.31,17.57,10.72,6.08,14.47,11.49,11.67],\"yaxis\":\"y\",\"type\":\"scatter\"},{\"hovertemplate\":\"\\u003cb\\u003eOLS trendline\\u003c\\u002fb\\u003e\\u003cbr\\u003eint_rate = 0.105557 * dti + 10.9694\\u003cbr\\u003eR\\u003csup\\u003e2\\u003c\\u002fsup\\u003e=0.031603\\u003cbr\\u003e\\u003cbr\\u003eDebt-to-Income Ratio=%{x}\\u003cbr\\u003eInterest Rate (%)=%{y} \\u003cb\\u003e(trend)\\u003c\\u002fb\\u003e\\u003cextra\\u003e\\u003c\\u002fextra\\u003e\",\"legendgroup\":\"\",\"line\":{\"color\":\"orange\"},\"marker\":{\"color\":\"#1F77B4\",\"symbol\":\"circle\"},\"mode\":\"lines\",\"name\":\"\",\"showlegend\":false,\"x\":[0.01,1.6,2.08,2.22,2.38,2.83,3.36,3.9,4.21,4.83,4.9,4.97,5.2,5.41,5.49,5.66,5.85,5.97,6.06,7.06,7.45,7.46,7.5,7.74,7.85,8.26,8.33,8.4,8.61,8.82,8.88,8.95,9.14,9.27,9.54,9.54,9.58,9.75,9.77,10.43,10.72,10.79,11.15,11.48,11.57,11.57,11.66,11.98,12.0,12.14,12.32,12.35,12.41,13.01,13.41,13.42,13.45,13.73,13.77,13.85,13.91,13.91,13.93,14.02,14.11,14.28,14.32,14.38,14.43,14.81,15.0,15.01,15.03,15.05,15.21,15.25,15.28,15.61,15.67,15.67,15.74,15.75,15.91,15.93,16.23,16.34,16.65,16.72,16.97,16.97,17.1,17.11,17.17,17.25,17.27,17.28,17.51,17.61,17.64,17.74,17.78,17.91,17.94,17.96,18.0,18.16,18.24,18.27,18.5,18.76,18.85,18.89,18.9,19.17,19.26,19.26,19.41,19.48,19.51,19.65,19.85,19.98,20.33,20.45,20.72,20.9,21.05,21.06,21.09,21.09,21.09,21.39,21.42,21.43,21.46,21.75,21.75,21.83,22.27,22.29,22.3,22.36,22.45,22.58,22.72,22.8,23.0,23.02,23.35,23.76,24.09,24.4,24.51,24.53,24.68,25.06,25.15,25.25,25.58,25.78,25.78,25.91,26.01,26.02,26.23,26.46,26.49,26.61,26.98,27.05,27.09,27.09,27.19,27.26,27.44,27.5,27.66,27.89,27.98,28.31,28.61,28.97,29.33,29.41,29.44,29.93,30.26,30.88,31.02,31.04,31.16,31.75,32.2,33.62,33.78,33.99,34.79,36.39,38.6,52.92],\"xaxis\":\"x\",\"y\":[10.970452464508378,11.138288812901738,11.188956389775205,11.203734433029966,11.220623625321123,11.268124478639999,11.324069928104452,11.381070952087102,11.413793762151217,11.479239382279445,11.486628403906826,11.494017425534206,11.518295639452743,11.540462704334885,11.548907300480463,11.566852067289815,11.586907983135564,11.59957487735393,11.609075048017706,11.714632499837428,11.755799906047121,11.756855480565319,11.761077778638107,11.786411567074841,11.79802288677501,11.841301442021097,11.848690463648477,11.856079485275858,11.878246550158,11.900413615040142,11.906747062149325,11.914136083776706,11.934191999622454,11.947914468359018,11.976414980350343,11.976414980350343,11.980637278423131,11.998582045232485,12.00069319426888,12.070361112469897,12.100972773497617,12.108361795124997,12.146362477780098,12.181196436880606,12.190696607544382,12.190696607544382,12.200196778208158,12.233975162790468,12.236086311826863,12.250864355081625,12.269864696409174,12.273031419963766,12.27936486707295,12.342699338164783,12.384922318892674,12.385977893410871,12.389144616965462,12.418700703474984,12.422923001547774,12.43136759769335,12.437701044802536,12.437701044802536,12.439812193838929,12.449312364502704,12.45881253516648,12.476757301975832,12.480979600048622,12.487313047157805,12.49259091974879,12.532702751440286,12.552758667286033,12.553814241804231,12.555925390840626,12.558036539877019,12.574925732168175,12.579148030240964,12.582314753795556,12.617148712896064,12.623482160005247,12.623482160005247,12.630871181632628,12.631926756150825,12.648815948441982,12.650927097478377,12.682594333024293,12.694205652724463,12.726928462788576,12.734317484415957,12.760706847370889,12.760706847370889,12.774429316107453,12.77548489062565,12.781818337734833,12.790262933880411,12.792374082916806,12.793429657435004,12.817707871353539,12.828263616535512,12.831430340090103,12.841986085272076,12.846208383344864,12.85993085208143,12.86309757563602,12.865208724672415,12.869431022745204,12.88632021503636,12.894764811181938,12.897931534736529,12.922209748655066,12.949654686128193,12.959154856791969,12.963377154864759,12.964432729382954,12.992933241374281,13.002433412038055,13.002433412038055,13.018267029811014,13.025656051438395,13.028822774992987,13.043600818247748,13.064712308611693,13.078434777348257,13.11537988548516,13.128046779703526,13.156547291694851,13.175547633022402,13.191381250795361,13.192436825313557,13.19560354886815,13.19560354886815,13.19560354886815,13.227270784414067,13.23043750796866,13.231493082486855,13.234659806041448,13.265271467069168,13.265271467069168,13.273716063214744,13.320161342015423,13.322272491051818,13.323328065570015,13.329661512679198,13.339161683342974,13.352884152079538,13.3676621953343,13.376106791479877,13.397218281843822,13.399329430880217,13.434163389980725,13.477441945226811,13.51227590432732,13.544998714391435,13.556610034091603,13.558721183127998,13.574554800900957,13.614666632592451,13.624166803256227,13.6347225484382,13.669556507538708,13.690667997902652,13.690667997902652,13.704390466639216,13.71494621182119,13.716001786339387,13.738168851221529,13.762447065140066,13.765613788694656,13.778280682913023,13.81733694008632,13.824725961713701,13.828948259786491,13.828948259786491,13.839504004968463,13.846893026595843,13.865893367923395,13.872226815032578,13.889116007323732,13.91339422124227,13.922894391906045,13.957728351006553,13.98939558655247,14.027396269207571,14.06539695186267,14.073841548008248,14.07700827156284,14.128731422954505,14.163565382055014,14.229011002183242,14.243789045438003,14.245900194474398,14.258567088692764,14.320845985266402,14.368346838585278,14.518238420169284,14.53512761246044,14.557294677342583,14.641740638798362,14.81063256170992,15.043914530231508,16.55549724028995],\"yaxis\":\"y\",\"type\":\"scatter\"}],                        {\"template\":{\"data\":{\"barpolar\":[{\"marker\":{\"line\":{\"color\":\"white\",\"width\":0.5},\"pattern\":{\"fillmode\":\"overlay\",\"size\":10,\"solidity\":0.2}},\"type\":\"barpolar\"}],\"bar\":[{\"error_x\":{\"color\":\"rgb(36,36,36)\"},\"error_y\":{\"color\":\"rgb(36,36,36)\"},\"marker\":{\"line\":{\"color\":\"white\",\"width\":0.5},\"pattern\":{\"fillmode\":\"overlay\",\"size\":10,\"solidity\":0.2}},\"type\":\"bar\"}],\"carpet\":[{\"aaxis\":{\"endlinecolor\":\"rgb(36,36,36)\",\"gridcolor\":\"white\",\"linecolor\":\"white\",\"minorgridcolor\":\"white\",\"startlinecolor\":\"rgb(36,36,36)\"},\"baxis\":{\"endlinecolor\":\"rgb(36,36,36)\",\"gridcolor\":\"white\",\"linecolor\":\"white\",\"minorgridcolor\":\"white\",\"startlinecolor\":\"rgb(36,36,36)\"},\"type\":\"carpet\"}],\"choropleth\":[{\"colorbar\":{\"outlinewidth\":1,\"tickcolor\":\"rgb(36,36,36)\",\"ticks\":\"outside\"},\"type\":\"choropleth\"}],\"contourcarpet\":[{\"colorbar\":{\"outlinewidth\":1,\"tickcolor\":\"rgb(36,36,36)\",\"ticks\":\"outside\"},\"type\":\"contourcarpet\"}],\"contour\":[{\"colorbar\":{\"outlinewidth\":1,\"tickcolor\":\"rgb(36,36,36)\",\"ticks\":\"outside\"},\"colorscale\":[[0.0,\"#440154\"],[0.1111111111111111,\"#482878\"],[0.2222222222222222,\"#3e4989\"],[0.3333333333333333,\"#31688e\"],[0.4444444444444444,\"#26828e\"],[0.5555555555555556,\"#1f9e89\"],[0.6666666666666666,\"#35b779\"],[0.7777777777777778,\"#6ece58\"],[0.8888888888888888,\"#b5de2b\"],[1.0,\"#fde725\"]],\"type\":\"contour\"}],\"heatmapgl\":[{\"colorbar\":{\"outlinewidth\":1,\"tickcolor\":\"rgb(36,36,36)\",\"ticks\":\"outside\"},\"colorscale\":[[0.0,\"#440154\"],[0.1111111111111111,\"#482878\"],[0.2222222222222222,\"#3e4989\"],[0.3333333333333333,\"#31688e\"],[0.4444444444444444,\"#26828e\"],[0.5555555555555556,\"#1f9e89\"],[0.6666666666666666,\"#35b779\"],[0.7777777777777778,\"#6ece58\"],[0.8888888888888888,\"#b5de2b\"],[1.0,\"#fde725\"]],\"type\":\"heatmapgl\"}],\"heatmap\":[{\"colorbar\":{\"outlinewidth\":1,\"tickcolor\":\"rgb(36,36,36)\",\"ticks\":\"outside\"},\"colorscale\":[[0.0,\"#440154\"],[0.1111111111111111,\"#482878\"],[0.2222222222222222,\"#3e4989\"],[0.3333333333333333,\"#31688e\"],[0.4444444444444444,\"#26828e\"],[0.5555555555555556,\"#1f9e89\"],[0.6666666666666666,\"#35b779\"],[0.7777777777777778,\"#6ece58\"],[0.8888888888888888,\"#b5de2b\"],[1.0,\"#fde725\"]],\"type\":\"heatmap\"}],\"histogram2dcontour\":[{\"colorbar\":{\"outlinewidth\":1,\"tickcolor\":\"rgb(36,36,36)\",\"ticks\":\"outside\"},\"colorscale\":[[0.0,\"#440154\"],[0.1111111111111111,\"#482878\"],[0.2222222222222222,\"#3e4989\"],[0.3333333333333333,\"#31688e\"],[0.4444444444444444,\"#26828e\"],[0.5555555555555556,\"#1f9e89\"],[0.6666666666666666,\"#35b779\"],[0.7777777777777778,\"#6ece58\"],[0.8888888888888888,\"#b5de2b\"],[1.0,\"#fde725\"]],\"type\":\"histogram2dcontour\"}],\"histogram2d\":[{\"colorbar\":{\"outlinewidth\":1,\"tickcolor\":\"rgb(36,36,36)\",\"ticks\":\"outside\"},\"colorscale\":[[0.0,\"#440154\"],[0.1111111111111111,\"#482878\"],[0.2222222222222222,\"#3e4989\"],[0.3333333333333333,\"#31688e\"],[0.4444444444444444,\"#26828e\"],[0.5555555555555556,\"#1f9e89\"],[0.6666666666666666,\"#35b779\"],[0.7777777777777778,\"#6ece58\"],[0.8888888888888888,\"#b5de2b\"],[1.0,\"#fde725\"]],\"type\":\"histogram2d\"}],\"histogram\":[{\"marker\":{\"line\":{\"color\":\"white\",\"width\":0.6}},\"type\":\"histogram\"}],\"mesh3d\":[{\"colorbar\":{\"outlinewidth\":1,\"tickcolor\":\"rgb(36,36,36)\",\"ticks\":\"outside\"},\"type\":\"mesh3d\"}],\"parcoords\":[{\"line\":{\"colorbar\":{\"outlinewidth\":1,\"tickcolor\":\"rgb(36,36,36)\",\"ticks\":\"outside\"}},\"type\":\"parcoords\"}],\"pie\":[{\"automargin\":true,\"type\":\"pie\"}],\"scatter3d\":[{\"line\":{\"colorbar\":{\"outlinewidth\":1,\"tickcolor\":\"rgb(36,36,36)\",\"ticks\":\"outside\"}},\"marker\":{\"colorbar\":{\"outlinewidth\":1,\"tickcolor\":\"rgb(36,36,36)\",\"ticks\":\"outside\"}},\"type\":\"scatter3d\"}],\"scattercarpet\":[{\"marker\":{\"colorbar\":{\"outlinewidth\":1,\"tickcolor\":\"rgb(36,36,36)\",\"ticks\":\"outside\"}},\"type\":\"scattercarpet\"}],\"scattergeo\":[{\"marker\":{\"colorbar\":{\"outlinewidth\":1,\"tickcolor\":\"rgb(36,36,36)\",\"ticks\":\"outside\"}},\"type\":\"scattergeo\"}],\"scattergl\":[{\"marker\":{\"colorbar\":{\"outlinewidth\":1,\"tickcolor\":\"rgb(36,36,36)\",\"ticks\":\"outside\"}},\"type\":\"scattergl\"}],\"scattermapbox\":[{\"marker\":{\"colorbar\":{\"outlinewidth\":1,\"tickcolor\":\"rgb(36,36,36)\",\"ticks\":\"outside\"}},\"type\":\"scattermapbox\"}],\"scatterpolargl\":[{\"marker\":{\"colorbar\":{\"outlinewidth\":1,\"tickcolor\":\"rgb(36,36,36)\",\"ticks\":\"outside\"}},\"type\":\"scatterpolargl\"}],\"scatterpolar\":[{\"marker\":{\"colorbar\":{\"outlinewidth\":1,\"tickcolor\":\"rgb(36,36,36)\",\"ticks\":\"outside\"}},\"type\":\"scatterpolar\"}],\"scatter\":[{\"fillpattern\":{\"fillmode\":\"overlay\",\"size\":10,\"solidity\":0.2},\"type\":\"scatter\"}],\"scatterternary\":[{\"marker\":{\"colorbar\":{\"outlinewidth\":1,\"tickcolor\":\"rgb(36,36,36)\",\"ticks\":\"outside\"}},\"type\":\"scatterternary\"}],\"surface\":[{\"colorbar\":{\"outlinewidth\":1,\"tickcolor\":\"rgb(36,36,36)\",\"ticks\":\"outside\"},\"colorscale\":[[0.0,\"#440154\"],[0.1111111111111111,\"#482878\"],[0.2222222222222222,\"#3e4989\"],[0.3333333333333333,\"#31688e\"],[0.4444444444444444,\"#26828e\"],[0.5555555555555556,\"#1f9e89\"],[0.6666666666666666,\"#35b779\"],[0.7777777777777778,\"#6ece58\"],[0.8888888888888888,\"#b5de2b\"],[1.0,\"#fde725\"]],\"type\":\"surface\"}],\"table\":[{\"cells\":{\"fill\":{\"color\":\"rgb(237,237,237)\"},\"line\":{\"color\":\"white\"}},\"header\":{\"fill\":{\"color\":\"rgb(217,217,217)\"},\"line\":{\"color\":\"white\"}},\"type\":\"table\"}]},\"layout\":{\"annotationdefaults\":{\"arrowhead\":0,\"arrowwidth\":1},\"autotypenumbers\":\"strict\",\"coloraxis\":{\"colorbar\":{\"outlinewidth\":1,\"tickcolor\":\"rgb(36,36,36)\",\"ticks\":\"outside\"}},\"colorscale\":{\"diverging\":[[0.0,\"rgb(103,0,31)\"],[0.1,\"rgb(178,24,43)\"],[0.2,\"rgb(214,96,77)\"],[0.3,\"rgb(244,165,130)\"],[0.4,\"rgb(253,219,199)\"],[0.5,\"rgb(247,247,247)\"],[0.6,\"rgb(209,229,240)\"],[0.7,\"rgb(146,197,222)\"],[0.8,\"rgb(67,147,195)\"],[0.9,\"rgb(33,102,172)\"],[1.0,\"rgb(5,48,97)\"]],\"sequential\":[[0.0,\"#440154\"],[0.1111111111111111,\"#482878\"],[0.2222222222222222,\"#3e4989\"],[0.3333333333333333,\"#31688e\"],[0.4444444444444444,\"#26828e\"],[0.5555555555555556,\"#1f9e89\"],[0.6666666666666666,\"#35b779\"],[0.7777777777777778,\"#6ece58\"],[0.8888888888888888,\"#b5de2b\"],[1.0,\"#fde725\"]],\"sequentialminus\":[[0.0,\"#440154\"],[0.1111111111111111,\"#482878\"],[0.2222222222222222,\"#3e4989\"],[0.3333333333333333,\"#31688e\"],[0.4444444444444444,\"#26828e\"],[0.5555555555555556,\"#1f9e89\"],[0.6666666666666666,\"#35b779\"],[0.7777777777777778,\"#6ece58\"],[0.8888888888888888,\"#b5de2b\"],[1.0,\"#fde725\"]]},\"colorway\":[\"#1F77B4\",\"#FF7F0E\",\"#2CA02C\",\"#D62728\",\"#9467BD\",\"#8C564B\",\"#E377C2\",\"#7F7F7F\",\"#BCBD22\",\"#17BECF\"],\"font\":{\"color\":\"rgb(36,36,36)\"},\"geo\":{\"bgcolor\":\"white\",\"lakecolor\":\"white\",\"landcolor\":\"white\",\"showlakes\":true,\"showland\":true,\"subunitcolor\":\"white\"},\"hoverlabel\":{\"align\":\"left\"},\"hovermode\":\"closest\",\"mapbox\":{\"style\":\"light\"},\"paper_bgcolor\":\"white\",\"plot_bgcolor\":\"white\",\"polar\":{\"angularaxis\":{\"gridcolor\":\"rgb(232,232,232)\",\"linecolor\":\"rgb(36,36,36)\",\"showgrid\":false,\"showline\":true,\"ticks\":\"outside\"},\"bgcolor\":\"white\",\"radialaxis\":{\"gridcolor\":\"rgb(232,232,232)\",\"linecolor\":\"rgb(36,36,36)\",\"showgrid\":false,\"showline\":true,\"ticks\":\"outside\"}},\"scene\":{\"xaxis\":{\"backgroundcolor\":\"white\",\"gridcolor\":\"rgb(232,232,232)\",\"gridwidth\":2,\"linecolor\":\"rgb(36,36,36)\",\"showbackground\":true,\"showgrid\":false,\"showline\":true,\"ticks\":\"outside\",\"zeroline\":false,\"zerolinecolor\":\"rgb(36,36,36)\"},\"yaxis\":{\"backgroundcolor\":\"white\",\"gridcolor\":\"rgb(232,232,232)\",\"gridwidth\":2,\"linecolor\":\"rgb(36,36,36)\",\"showbackground\":true,\"showgrid\":false,\"showline\":true,\"ticks\":\"outside\",\"zeroline\":false,\"zerolinecolor\":\"rgb(36,36,36)\"},\"zaxis\":{\"backgroundcolor\":\"white\",\"gridcolor\":\"rgb(232,232,232)\",\"gridwidth\":2,\"linecolor\":\"rgb(36,36,36)\",\"showbackground\":true,\"showgrid\":false,\"showline\":true,\"ticks\":\"outside\",\"zeroline\":false,\"zerolinecolor\":\"rgb(36,36,36)\"}},\"shapedefaults\":{\"fillcolor\":\"black\",\"line\":{\"width\":0},\"opacity\":0.3},\"ternary\":{\"aaxis\":{\"gridcolor\":\"rgb(232,232,232)\",\"linecolor\":\"rgb(36,36,36)\",\"showgrid\":false,\"showline\":true,\"ticks\":\"outside\"},\"baxis\":{\"gridcolor\":\"rgb(232,232,232)\",\"linecolor\":\"rgb(36,36,36)\",\"showgrid\":false,\"showline\":true,\"ticks\":\"outside\"},\"bgcolor\":\"white\",\"caxis\":{\"gridcolor\":\"rgb(232,232,232)\",\"linecolor\":\"rgb(36,36,36)\",\"showgrid\":false,\"showline\":true,\"ticks\":\"outside\"}},\"title\":{\"x\":0.5,\"xanchor\":\"center\"},\"xaxis\":{\"automargin\":true,\"gridcolor\":\"rgb(232,232,232)\",\"linecolor\":\"rgb(36,36,36)\",\"showgrid\":true,\"showline\":true,\"ticks\":\"outside\",\"title\":{\"standoff\":15},\"zeroline\":false,\"zerolinecolor\":\"rgb(36,36,36)\"},\"yaxis\":{\"automargin\":true,\"gridcolor\":\"rgb(232,232,232)\",\"linecolor\":\"rgb(36,36,36)\",\"showgrid\":true,\"showline\":true,\"ticks\":\"outside\",\"title\":{\"standoff\":15},\"zeroline\":false,\"zerolinecolor\":\"rgb(36,36,36)\"},\"autosize\":true,\"height\":400,\"margin\":{\"b\":30,\"l\":30,\"r\":30,\"t\":30},\"width\":600}},\"xaxis\":{\"anchor\":\"y\",\"domain\":[0.0,1.0],\"title\":{\"text\":\"Debt-to-Income Ratio\"}},\"yaxis\":{\"anchor\":\"x\",\"domain\":[0.0,1.0],\"title\":{\"text\":\"Interest Rate (%)\"}},\"legend\":{\"tracegroupgap\":0},\"title\":{\"text\":\"Interest Rate vs. Debt-to-Income Ratio\"}},                        {\"responsive\": true}                    ).then(function(){\n",
       "                            \n",
       "var gd = document.getElementById('ceb00242-f6dc-4ee4-80a8-34aefda1f602');\n",
       "var x = new MutationObserver(function (mutations, observer) {{\n",
       "        var display = window.getComputedStyle(gd).display;\n",
       "        if (!display || display === 'none') {{\n",
       "            console.log([gd, 'removed!']);\n",
       "            Plotly.purge(gd);\n",
       "            observer.disconnect();\n",
       "        }}\n",
       "}});\n",
       "\n",
       "// Listen for the removal of the full notebook cells\n",
       "var notebookContainer = gd.closest('#notebook-container');\n",
       "if (notebookContainer) {{\n",
       "    x.observe(notebookContainer, {childList: true});\n",
       "}}\n",
       "\n",
       "// Listen for the clearing of the current output cell\n",
       "var outputEl = gd.closest('.output');\n",
       "if (outputEl) {{\n",
       "    x.observe(outputEl, {childList: true});\n",
       "}}\n",
       "\n",
       "                        })                };                });            </script>        </div>"
      ]
     },
     "metadata": {},
     "output_type": "display_data"
    }
   ],
   "source": [
    "sample_set = loans.sample(200, random_state=1)\n",
    "\n",
    "fig = px.scatter(sample_set, x='dti', y='int_rate', trendline='ols',\n",
    "                 labels={'dti': 'Debt-to-Income Ratio', 'int_rate': 'Interest Rate (%)'},\n",
    "                 trendline_color_override='orange',\n",
    "                 title='Interest Rate vs. Debt-to-Income Ratio')\n",
    "\n",
    "fig.show()"
   ]
  },
  {
   "cell_type": "markdown",
   "id": "4b8dd0c4",
   "metadata": {},
   "source": [
    "Indeed, it is!"
   ]
  },
  {
   "cell_type": "markdown",
   "id": "8c2ba5d6",
   "metadata": {},
   "source": [
    "<!-- ### ✅ Question 1 (Checkpoint Question) -->\n",
    "### ✅ Question 1 (Checkpoint Question)\n",
    "\n",
    "\n",
    "<a id='question1'></a>\n",
    "\n",
    "([return to the outline](#outline))\n",
    "\n",
    "We'll work with DTIs shortly, but first, we need to clean the dataset. Complete the implementation of the function `clean_loans`, which takes in a DataFrame like `loans` and returns a new DataFrame where:\n",
    "\n",
    "- The `'issue_d'` column contains `pd.Timestamp` objects rather than strings.\n",
    "- The `'term'` column contains ints rather than strings.\n",
    "- The `'emp_title'` column is cleaned such that:\n",
    "    - All employment titles are lowercase.\n",
    "    - Leading and trailing whitespaces are removed.\n",
    "    - The `'rn'` title is replaced with `'registered nurse'`. Note that there are other titles that include `'rn'` as part of a larger string, like `'clinical rn'` or `'attorney'`; for simplicity, **don't** replace `'rn'` in these titles with `'registered nurse'`. Instead, only replace titles that are exactly `'rn'` with `'registered nurse'`. (This means that you shouldn't use `.str.replace` to do your replacement here!)  \n",
    "- There is a new column, `'term_end'`, which contains the date (as a `pd.Timestamp` object) on which each loan is fully paid.\n",
    "    - ***Hint***: Use `pd.DateOffset`.\n",
    "\n",
    "If you do the cleaning correctly, the three most common employment titles and frequencies in `loans` should be:\n",
    "\n",
    "```py\n",
    "teacher                 415\n",
    "registered nurse        319\n",
    "nurse                   112\n",
    "```"
   ]
  },
  {
   "cell_type": "code",
   "execution_count": null,
   "id": "df1f648a",
   "metadata": {
    "tags": []
   },
   "outputs": [],
   "source": []
  },
  {
   "cell_type": "code",
   "execution_count": null,
   "id": "85d7b9a3",
   "metadata": {
    "tags": []
   },
   "outputs": [],
   "source": []
  },
  {
   "cell_type": "markdown",
   "id": "6b29869e",
   "metadata": {},
   "source": [
    "Run the cell below to call `clean_data` on `loans`. Make sure to run this cell before moving forward, otherwise the tests won't work correctly."
   ]
  },
  {
   "cell_type": "code",
   "execution_count": 23,
   "id": "b66b7414",
   "metadata": {
    "scrolled": true
   },
   "outputs": [
    {
     "data": {
      "text/html": [
       "<div>\n",
       "<style scoped>\n",
       "    .dataframe tbody tr th:only-of-type {\n",
       "        vertical-align: middle;\n",
       "    }\n",
       "\n",
       "    .dataframe tbody tr th {\n",
       "        vertical-align: top;\n",
       "    }\n",
       "\n",
       "    .dataframe thead th {\n",
       "        text-align: right;\n",
       "    }\n",
       "</style>\n",
       "<table border=\"1\" class=\"dataframe\">\n",
       "  <thead>\n",
       "    <tr style=\"text-align: right;\">\n",
       "      <th></th>\n",
       "      <th>id</th>\n",
       "      <th>loan_amnt</th>\n",
       "      <th>issue_d</th>\n",
       "      <th>term</th>\n",
       "      <th>int_rate</th>\n",
       "      <th>grade</th>\n",
       "      <th>sub_grade</th>\n",
       "      <th>emp_title</th>\n",
       "      <th>verification_status</th>\n",
       "      <th>home_ownership</th>\n",
       "      <th>...</th>\n",
       "      <th>loan_status</th>\n",
       "      <th>purpose</th>\n",
       "      <th>desc</th>\n",
       "      <th>addr_state</th>\n",
       "      <th>dti</th>\n",
       "      <th>fico_range_low</th>\n",
       "      <th>fico_range_high</th>\n",
       "      <th>hardship_flag</th>\n",
       "      <th>mths_since_last_delinq</th>\n",
       "      <th>term_end</th>\n",
       "    </tr>\n",
       "  </thead>\n",
       "  <tbody>\n",
       "    <tr>\n",
       "      <th>0</th>\n",
       "      <td>17965023</td>\n",
       "      <td>18000.0</td>\n",
       "      <td>2014-06-01</td>\n",
       "      <td>60</td>\n",
       "      <td>16.99</td>\n",
       "      <td>D</td>\n",
       "      <td>D3</td>\n",
       "      <td>sales</td>\n",
       "      <td>Source Verified</td>\n",
       "      <td>RENT</td>\n",
       "      <td>...</td>\n",
       "      <td>Charged Off</td>\n",
       "      <td>debt_consolidation</td>\n",
       "      <td>NaN</td>\n",
       "      <td>MN</td>\n",
       "      <td>23.22</td>\n",
       "      <td>700.0</td>\n",
       "      <td>704.0</td>\n",
       "      <td>N</td>\n",
       "      <td>72.0</td>\n",
       "      <td>2019-06-01 00:00:00</td>\n",
       "    </tr>\n",
       "    <tr>\n",
       "      <th>1</th>\n",
       "      <td>111414087</td>\n",
       "      <td>10000.0</td>\n",
       "      <td>2017-06-01</td>\n",
       "      <td>36</td>\n",
       "      <td>16.02</td>\n",
       "      <td>C</td>\n",
       "      <td>C5</td>\n",
       "      <td>mechanic</td>\n",
       "      <td>Source Verified</td>\n",
       "      <td>OWN</td>\n",
       "      <td>...</td>\n",
       "      <td>Current</td>\n",
       "      <td>home_improvement</td>\n",
       "      <td>NaN</td>\n",
       "      <td>IL</td>\n",
       "      <td>6.14</td>\n",
       "      <td>680.0</td>\n",
       "      <td>684.0</td>\n",
       "      <td>N</td>\n",
       "      <td>6.0</td>\n",
       "      <td>2020-06-01 00:00:00</td>\n",
       "    </tr>\n",
       "    <tr>\n",
       "      <th>2</th>\n",
       "      <td>95219557</td>\n",
       "      <td>12800.0</td>\n",
       "      <td>2016-12-01</td>\n",
       "      <td>36</td>\n",
       "      <td>7.99</td>\n",
       "      <td>A</td>\n",
       "      <td>A5</td>\n",
       "      <td>general manager</td>\n",
       "      <td>Not Verified</td>\n",
       "      <td>MORTGAGE</td>\n",
       "      <td>...</td>\n",
       "      <td>Fully Paid</td>\n",
       "      <td>debt_consolidation</td>\n",
       "      <td>NaN</td>\n",
       "      <td>MO</td>\n",
       "      <td>12.89</td>\n",
       "      <td>705.0</td>\n",
       "      <td>709.0</td>\n",
       "      <td>N</td>\n",
       "      <td>66.0</td>\n",
       "      <td>2019-12-01 00:00:00</td>\n",
       "    </tr>\n",
       "    <tr>\n",
       "      <th>3</th>\n",
       "      <td>142831837</td>\n",
       "      <td>16000.0</td>\n",
       "      <td>2018-10-01</td>\n",
       "      <td>60</td>\n",
       "      <td>23.40</td>\n",
       "      <td>E</td>\n",
       "      <td>E1</td>\n",
       "      <td>nurse</td>\n",
       "      <td>Source Verified</td>\n",
       "      <td>MORTGAGE</td>\n",
       "      <td>...</td>\n",
       "      <td>Current</td>\n",
       "      <td>home_improvement</td>\n",
       "      <td>NaN</td>\n",
       "      <td>FL</td>\n",
       "      <td>5.66</td>\n",
       "      <td>670.0</td>\n",
       "      <td>674.0</td>\n",
       "      <td>N</td>\n",
       "      <td>NaN</td>\n",
       "      <td>2023-10-01 00:00:00</td>\n",
       "    </tr>\n",
       "    <tr>\n",
       "      <th>4</th>\n",
       "      <td>140113255</td>\n",
       "      <td>40000.0</td>\n",
       "      <td>2018-09-01</td>\n",
       "      <td>60</td>\n",
       "      <td>7.84</td>\n",
       "      <td>A</td>\n",
       "      <td>A4</td>\n",
       "      <td>staff pharmacist</td>\n",
       "      <td>Verified</td>\n",
       "      <td>MORTGAGE</td>\n",
       "      <td>...</td>\n",
       "      <td>Current</td>\n",
       "      <td>debt_consolidation</td>\n",
       "      <td>NaN</td>\n",
       "      <td>MN</td>\n",
       "      <td>12.24</td>\n",
       "      <td>735.0</td>\n",
       "      <td>739.0</td>\n",
       "      <td>N</td>\n",
       "      <td>NaN</td>\n",
       "      <td>2023-09-01 00:00:00</td>\n",
       "    </tr>\n",
       "  </tbody>\n",
       "</table>\n",
       "<p>5 rows × 21 columns</p>\n",
       "</div>"
      ],
      "text/plain": [
       "          id  loan_amnt    issue_d  term  int_rate grade sub_grade  \\\n",
       "0   17965023    18000.0 2014-06-01    60     16.99     D        D3   \n",
       "1  111414087    10000.0 2017-06-01    36     16.02     C        C5   \n",
       "2   95219557    12800.0 2016-12-01    36      7.99     A        A5   \n",
       "3  142831837    16000.0 2018-10-01    60     23.40     E        E1   \n",
       "4  140113255    40000.0 2018-09-01    60      7.84     A        A4   \n",
       "\n",
       "          emp_title verification_status home_ownership  ...  loan_status  \\\n",
       "0             sales     Source Verified           RENT  ...  Charged Off   \n",
       "1          mechanic     Source Verified            OWN  ...      Current   \n",
       "2   general manager        Not Verified       MORTGAGE  ...   Fully Paid   \n",
       "3             nurse     Source Verified       MORTGAGE  ...      Current   \n",
       "4  staff pharmacist            Verified       MORTGAGE  ...      Current   \n",
       "\n",
       "              purpose desc addr_state    dti  fico_range_low  fico_range_high  \\\n",
       "0  debt_consolidation  NaN         MN  23.22           700.0            704.0   \n",
       "1    home_improvement  NaN         IL   6.14           680.0            684.0   \n",
       "2  debt_consolidation  NaN         MO  12.89           705.0            709.0   \n",
       "3    home_improvement  NaN         FL   5.66           670.0            674.0   \n",
       "4  debt_consolidation  NaN         MN  12.24           735.0            739.0   \n",
       "\n",
       "   hardship_flag mths_since_last_delinq             term_end  \n",
       "0              N                   72.0  2019-06-01 00:00:00  \n",
       "1              N                    6.0  2020-06-01 00:00:00  \n",
       "2              N                   66.0  2019-12-01 00:00:00  \n",
       "3              N                    NaN  2023-10-01 00:00:00  \n",
       "4              N                    NaN  2023-09-01 00:00:00  \n",
       "\n",
       "[5 rows x 21 columns]"
      ]
     },
     "execution_count": 23,
     "metadata": {},
     "output_type": "execute_result"
    }
   ],
   "source": [
    "loans = pd.read_csv(loans_path)\n",
    "loans = clean_loans(loans)\n",
    "loans.head()"
   ]
  },
  {
   "cell_type": "code",
   "execution_count": 24,
   "id": "0bbabf1f",
   "metadata": {
    "deletable": false,
    "editable": false
   },
   "outputs": [
    {
     "data": {
      "text/html": [
       "<p><strong><pre style='display: inline;'>q1</pre></strong> passed!</p>"
      ],
      "text/plain": [
       "q1 results: All test cases passed!"
      ]
     },
     "execution_count": 24,
     "metadata": {},
     "output_type": "execute_result"
    }
   ],
   "source": [
    "grader.check(\"q1\")"
   ]
  },
  {
   "cell_type": "markdown",
   "id": "27051ada",
   "metadata": {},
   "source": [
    "Now that we've cleaned `loans`, we can easily do things like plot the number of loans per year in `loans`:"
   ]
  },
  {
   "cell_type": "code",
   "execution_count": 25,
   "id": "14e106e9",
   "metadata": {},
   "outputs": [
    {
     "data": {
      "application/vnd.plotly.v1+json": {
       "config": {
        "plotlyServerURL": "https://plot.ly"
       },
       "data": [
        {
         "hovertemplate": "variable=count<br>issue_d=%{x}<br>Frequency=%{y}<extra></extra>",
         "legendgroup": "count",
         "line": {
          "color": "#1F77B4",
          "dash": "solid"
         },
         "marker": {
          "symbol": "circle"
         },
         "mode": "lines",
         "name": "count",
         "orientation": "v",
         "showlegend": true,
         "type": "scatter",
         "x": [
          2008,
          2009,
          2010,
          2011,
          2012,
          2013,
          2014,
          2015,
          2016,
          2017,
          2018
         ],
         "xaxis": "x",
         "y": [
          5,
          5,
          28,
          49,
          117,
          350,
          748,
          1285,
          1254,
          1201,
          1258
         ],
         "yaxis": "y"
        }
       ],
       "layout": {
        "autosize": true,
        "legend": {
         "title": {
          "text": "variable"
         },
         "tracegroupgap": 0
        },
        "showlegend": false,
        "template": {
         "data": {
          "bar": [
           {
            "error_x": {
             "color": "rgb(36,36,36)"
            },
            "error_y": {
             "color": "rgb(36,36,36)"
            },
            "marker": {
             "line": {
              "color": "white",
              "width": 0.5
             },
             "pattern": {
              "fillmode": "overlay",
              "size": 10,
              "solidity": 0.2
             }
            },
            "type": "bar"
           }
          ],
          "barpolar": [
           {
            "marker": {
             "line": {
              "color": "white",
              "width": 0.5
             },
             "pattern": {
              "fillmode": "overlay",
              "size": 10,
              "solidity": 0.2
             }
            },
            "type": "barpolar"
           }
          ],
          "carpet": [
           {
            "aaxis": {
             "endlinecolor": "rgb(36,36,36)",
             "gridcolor": "white",
             "linecolor": "white",
             "minorgridcolor": "white",
             "startlinecolor": "rgb(36,36,36)"
            },
            "baxis": {
             "endlinecolor": "rgb(36,36,36)",
             "gridcolor": "white",
             "linecolor": "white",
             "minorgridcolor": "white",
             "startlinecolor": "rgb(36,36,36)"
            },
            "type": "carpet"
           }
          ],
          "choropleth": [
           {
            "colorbar": {
             "outlinewidth": 1,
             "tickcolor": "rgb(36,36,36)",
             "ticks": "outside"
            },
            "type": "choropleth"
           }
          ],
          "contour": [
           {
            "colorbar": {
             "outlinewidth": 1,
             "tickcolor": "rgb(36,36,36)",
             "ticks": "outside"
            },
            "colorscale": [
             [
              0,
              "#440154"
             ],
             [
              0.1111111111111111,
              "#482878"
             ],
             [
              0.2222222222222222,
              "#3e4989"
             ],
             [
              0.3333333333333333,
              "#31688e"
             ],
             [
              0.4444444444444444,
              "#26828e"
             ],
             [
              0.5555555555555556,
              "#1f9e89"
             ],
             [
              0.6666666666666666,
              "#35b779"
             ],
             [
              0.7777777777777778,
              "#6ece58"
             ],
             [
              0.8888888888888888,
              "#b5de2b"
             ],
             [
              1,
              "#fde725"
             ]
            ],
            "type": "contour"
           }
          ],
          "contourcarpet": [
           {
            "colorbar": {
             "outlinewidth": 1,
             "tickcolor": "rgb(36,36,36)",
             "ticks": "outside"
            },
            "type": "contourcarpet"
           }
          ],
          "heatmap": [
           {
            "colorbar": {
             "outlinewidth": 1,
             "tickcolor": "rgb(36,36,36)",
             "ticks": "outside"
            },
            "colorscale": [
             [
              0,
              "#440154"
             ],
             [
              0.1111111111111111,
              "#482878"
             ],
             [
              0.2222222222222222,
              "#3e4989"
             ],
             [
              0.3333333333333333,
              "#31688e"
             ],
             [
              0.4444444444444444,
              "#26828e"
             ],
             [
              0.5555555555555556,
              "#1f9e89"
             ],
             [
              0.6666666666666666,
              "#35b779"
             ],
             [
              0.7777777777777778,
              "#6ece58"
             ],
             [
              0.8888888888888888,
              "#b5de2b"
             ],
             [
              1,
              "#fde725"
             ]
            ],
            "type": "heatmap"
           }
          ],
          "heatmapgl": [
           {
            "colorbar": {
             "outlinewidth": 1,
             "tickcolor": "rgb(36,36,36)",
             "ticks": "outside"
            },
            "colorscale": [
             [
              0,
              "#440154"
             ],
             [
              0.1111111111111111,
              "#482878"
             ],
             [
              0.2222222222222222,
              "#3e4989"
             ],
             [
              0.3333333333333333,
              "#31688e"
             ],
             [
              0.4444444444444444,
              "#26828e"
             ],
             [
              0.5555555555555556,
              "#1f9e89"
             ],
             [
              0.6666666666666666,
              "#35b779"
             ],
             [
              0.7777777777777778,
              "#6ece58"
             ],
             [
              0.8888888888888888,
              "#b5de2b"
             ],
             [
              1,
              "#fde725"
             ]
            ],
            "type": "heatmapgl"
           }
          ],
          "histogram": [
           {
            "marker": {
             "line": {
              "color": "white",
              "width": 0.6
             }
            },
            "type": "histogram"
           }
          ],
          "histogram2d": [
           {
            "colorbar": {
             "outlinewidth": 1,
             "tickcolor": "rgb(36,36,36)",
             "ticks": "outside"
            },
            "colorscale": [
             [
              0,
              "#440154"
             ],
             [
              0.1111111111111111,
              "#482878"
             ],
             [
              0.2222222222222222,
              "#3e4989"
             ],
             [
              0.3333333333333333,
              "#31688e"
             ],
             [
              0.4444444444444444,
              "#26828e"
             ],
             [
              0.5555555555555556,
              "#1f9e89"
             ],
             [
              0.6666666666666666,
              "#35b779"
             ],
             [
              0.7777777777777778,
              "#6ece58"
             ],
             [
              0.8888888888888888,
              "#b5de2b"
             ],
             [
              1,
              "#fde725"
             ]
            ],
            "type": "histogram2d"
           }
          ],
          "histogram2dcontour": [
           {
            "colorbar": {
             "outlinewidth": 1,
             "tickcolor": "rgb(36,36,36)",
             "ticks": "outside"
            },
            "colorscale": [
             [
              0,
              "#440154"
             ],
             [
              0.1111111111111111,
              "#482878"
             ],
             [
              0.2222222222222222,
              "#3e4989"
             ],
             [
              0.3333333333333333,
              "#31688e"
             ],
             [
              0.4444444444444444,
              "#26828e"
             ],
             [
              0.5555555555555556,
              "#1f9e89"
             ],
             [
              0.6666666666666666,
              "#35b779"
             ],
             [
              0.7777777777777778,
              "#6ece58"
             ],
             [
              0.8888888888888888,
              "#b5de2b"
             ],
             [
              1,
              "#fde725"
             ]
            ],
            "type": "histogram2dcontour"
           }
          ],
          "mesh3d": [
           {
            "colorbar": {
             "outlinewidth": 1,
             "tickcolor": "rgb(36,36,36)",
             "ticks": "outside"
            },
            "type": "mesh3d"
           }
          ],
          "parcoords": [
           {
            "line": {
             "colorbar": {
              "outlinewidth": 1,
              "tickcolor": "rgb(36,36,36)",
              "ticks": "outside"
             }
            },
            "type": "parcoords"
           }
          ],
          "pie": [
           {
            "automargin": true,
            "type": "pie"
           }
          ],
          "scatter": [
           {
            "fillpattern": {
             "fillmode": "overlay",
             "size": 10,
             "solidity": 0.2
            },
            "type": "scatter"
           }
          ],
          "scatter3d": [
           {
            "line": {
             "colorbar": {
              "outlinewidth": 1,
              "tickcolor": "rgb(36,36,36)",
              "ticks": "outside"
             }
            },
            "marker": {
             "colorbar": {
              "outlinewidth": 1,
              "tickcolor": "rgb(36,36,36)",
              "ticks": "outside"
             }
            },
            "type": "scatter3d"
           }
          ],
          "scattercarpet": [
           {
            "marker": {
             "colorbar": {
              "outlinewidth": 1,
              "tickcolor": "rgb(36,36,36)",
              "ticks": "outside"
             }
            },
            "type": "scattercarpet"
           }
          ],
          "scattergeo": [
           {
            "marker": {
             "colorbar": {
              "outlinewidth": 1,
              "tickcolor": "rgb(36,36,36)",
              "ticks": "outside"
             }
            },
            "type": "scattergeo"
           }
          ],
          "scattergl": [
           {
            "marker": {
             "colorbar": {
              "outlinewidth": 1,
              "tickcolor": "rgb(36,36,36)",
              "ticks": "outside"
             }
            },
            "type": "scattergl"
           }
          ],
          "scattermapbox": [
           {
            "marker": {
             "colorbar": {
              "outlinewidth": 1,
              "tickcolor": "rgb(36,36,36)",
              "ticks": "outside"
             }
            },
            "type": "scattermapbox"
           }
          ],
          "scatterpolar": [
           {
            "marker": {
             "colorbar": {
              "outlinewidth": 1,
              "tickcolor": "rgb(36,36,36)",
              "ticks": "outside"
             }
            },
            "type": "scatterpolar"
           }
          ],
          "scatterpolargl": [
           {
            "marker": {
             "colorbar": {
              "outlinewidth": 1,
              "tickcolor": "rgb(36,36,36)",
              "ticks": "outside"
             }
            },
            "type": "scatterpolargl"
           }
          ],
          "scatterternary": [
           {
            "marker": {
             "colorbar": {
              "outlinewidth": 1,
              "tickcolor": "rgb(36,36,36)",
              "ticks": "outside"
             }
            },
            "type": "scatterternary"
           }
          ],
          "surface": [
           {
            "colorbar": {
             "outlinewidth": 1,
             "tickcolor": "rgb(36,36,36)",
             "ticks": "outside"
            },
            "colorscale": [
             [
              0,
              "#440154"
             ],
             [
              0.1111111111111111,
              "#482878"
             ],
             [
              0.2222222222222222,
              "#3e4989"
             ],
             [
              0.3333333333333333,
              "#31688e"
             ],
             [
              0.4444444444444444,
              "#26828e"
             ],
             [
              0.5555555555555556,
              "#1f9e89"
             ],
             [
              0.6666666666666666,
              "#35b779"
             ],
             [
              0.7777777777777778,
              "#6ece58"
             ],
             [
              0.8888888888888888,
              "#b5de2b"
             ],
             [
              1,
              "#fde725"
             ]
            ],
            "type": "surface"
           }
          ],
          "table": [
           {
            "cells": {
             "fill": {
              "color": "rgb(237,237,237)"
             },
             "line": {
              "color": "white"
             }
            },
            "header": {
             "fill": {
              "color": "rgb(217,217,217)"
             },
             "line": {
              "color": "white"
             }
            },
            "type": "table"
           }
          ]
         },
         "layout": {
          "annotationdefaults": {
           "arrowhead": 0,
           "arrowwidth": 1
          },
          "autosize": true,
          "autotypenumbers": "strict",
          "coloraxis": {
           "colorbar": {
            "outlinewidth": 1,
            "tickcolor": "rgb(36,36,36)",
            "ticks": "outside"
           }
          },
          "colorscale": {
           "diverging": [
            [
             0,
             "rgb(103,0,31)"
            ],
            [
             0.1,
             "rgb(178,24,43)"
            ],
            [
             0.2,
             "rgb(214,96,77)"
            ],
            [
             0.3,
             "rgb(244,165,130)"
            ],
            [
             0.4,
             "rgb(253,219,199)"
            ],
            [
             0.5,
             "rgb(247,247,247)"
            ],
            [
             0.6,
             "rgb(209,229,240)"
            ],
            [
             0.7,
             "rgb(146,197,222)"
            ],
            [
             0.8,
             "rgb(67,147,195)"
            ],
            [
             0.9,
             "rgb(33,102,172)"
            ],
            [
             1,
             "rgb(5,48,97)"
            ]
           ],
           "sequential": [
            [
             0,
             "#440154"
            ],
            [
             0.1111111111111111,
             "#482878"
            ],
            [
             0.2222222222222222,
             "#3e4989"
            ],
            [
             0.3333333333333333,
             "#31688e"
            ],
            [
             0.4444444444444444,
             "#26828e"
            ],
            [
             0.5555555555555556,
             "#1f9e89"
            ],
            [
             0.6666666666666666,
             "#35b779"
            ],
            [
             0.7777777777777778,
             "#6ece58"
            ],
            [
             0.8888888888888888,
             "#b5de2b"
            ],
            [
             1,
             "#fde725"
            ]
           ],
           "sequentialminus": [
            [
             0,
             "#440154"
            ],
            [
             0.1111111111111111,
             "#482878"
            ],
            [
             0.2222222222222222,
             "#3e4989"
            ],
            [
             0.3333333333333333,
             "#31688e"
            ],
            [
             0.4444444444444444,
             "#26828e"
            ],
            [
             0.5555555555555556,
             "#1f9e89"
            ],
            [
             0.6666666666666666,
             "#35b779"
            ],
            [
             0.7777777777777778,
             "#6ece58"
            ],
            [
             0.8888888888888888,
             "#b5de2b"
            ],
            [
             1,
             "#fde725"
            ]
           ]
          },
          "colorway": [
           "#1F77B4",
           "#FF7F0E",
           "#2CA02C",
           "#D62728",
           "#9467BD",
           "#8C564B",
           "#E377C2",
           "#7F7F7F",
           "#BCBD22",
           "#17BECF"
          ],
          "font": {
           "color": "rgb(36,36,36)"
          },
          "geo": {
           "bgcolor": "white",
           "lakecolor": "white",
           "landcolor": "white",
           "showlakes": true,
           "showland": true,
           "subunitcolor": "white"
          },
          "height": 400,
          "hoverlabel": {
           "align": "left"
          },
          "hovermode": "closest",
          "mapbox": {
           "style": "light"
          },
          "margin": {
           "b": 30,
           "l": 30,
           "r": 30,
           "t": 30
          },
          "paper_bgcolor": "white",
          "plot_bgcolor": "white",
          "polar": {
           "angularaxis": {
            "gridcolor": "rgb(232,232,232)",
            "linecolor": "rgb(36,36,36)",
            "showgrid": false,
            "showline": true,
            "ticks": "outside"
           },
           "bgcolor": "white",
           "radialaxis": {
            "gridcolor": "rgb(232,232,232)",
            "linecolor": "rgb(36,36,36)",
            "showgrid": false,
            "showline": true,
            "ticks": "outside"
           }
          },
          "scene": {
           "xaxis": {
            "backgroundcolor": "white",
            "gridcolor": "rgb(232,232,232)",
            "gridwidth": 2,
            "linecolor": "rgb(36,36,36)",
            "showbackground": true,
            "showgrid": false,
            "showline": true,
            "ticks": "outside",
            "zeroline": false,
            "zerolinecolor": "rgb(36,36,36)"
           },
           "yaxis": {
            "backgroundcolor": "white",
            "gridcolor": "rgb(232,232,232)",
            "gridwidth": 2,
            "linecolor": "rgb(36,36,36)",
            "showbackground": true,
            "showgrid": false,
            "showline": true,
            "ticks": "outside",
            "zeroline": false,
            "zerolinecolor": "rgb(36,36,36)"
           },
           "zaxis": {
            "backgroundcolor": "white",
            "gridcolor": "rgb(232,232,232)",
            "gridwidth": 2,
            "linecolor": "rgb(36,36,36)",
            "showbackground": true,
            "showgrid": false,
            "showline": true,
            "ticks": "outside",
            "zeroline": false,
            "zerolinecolor": "rgb(36,36,36)"
           }
          },
          "shapedefaults": {
           "fillcolor": "black",
           "line": {
            "width": 0
           },
           "opacity": 0.3
          },
          "ternary": {
           "aaxis": {
            "gridcolor": "rgb(232,232,232)",
            "linecolor": "rgb(36,36,36)",
            "showgrid": false,
            "showline": true,
            "ticks": "outside"
           },
           "baxis": {
            "gridcolor": "rgb(232,232,232)",
            "linecolor": "rgb(36,36,36)",
            "showgrid": false,
            "showline": true,
            "ticks": "outside"
           },
           "bgcolor": "white",
           "caxis": {
            "gridcolor": "rgb(232,232,232)",
            "linecolor": "rgb(36,36,36)",
            "showgrid": false,
            "showline": true,
            "ticks": "outside"
           }
          },
          "title": {
           "x": 0.5,
           "xanchor": "center"
          },
          "width": 600,
          "xaxis": {
           "automargin": true,
           "gridcolor": "rgb(232,232,232)",
           "linecolor": "rgb(36,36,36)",
           "showgrid": true,
           "showline": true,
           "ticks": "outside",
           "title": {
            "standoff": 15
           },
           "zeroline": false,
           "zerolinecolor": "rgb(36,36,36)"
          },
          "yaxis": {
           "automargin": true,
           "gridcolor": "rgb(232,232,232)",
           "linecolor": "rgb(36,36,36)",
           "showgrid": true,
           "showline": true,
           "ticks": "outside",
           "title": {
            "standoff": 15
           },
           "zeroline": false,
           "zerolinecolor": "rgb(36,36,36)"
          }
         }
        },
        "title": {
         "text": "Number of Loans Granted Per Year<br>(In Sample of Loans)"
        },
        "xaxis": {
         "anchor": "y",
         "autorange": true,
         "domain": [
          0,
          1
         ],
         "range": [
          2008,
          2018
         ],
         "title": {
          "text": "issue_d"
         },
         "type": "linear"
        },
        "yaxis": {
         "anchor": "x",
         "autorange": true,
         "domain": [
          0,
          1
         ],
         "range": [
          -66.11111111111111,
          1356.111111111111
         ],
         "title": {
          "text": "Frequency"
         },
         "type": "linear"
        }
       }
      },
      "image/png": "[encoded data removed]",
      "text/html": [
       "<div>                            <div id=\"c5c69a4f-f896-4f66-9f02-93251e3a9b52\" class=\"plotly-graph-div\" style=\"height:400px; width:600px;\"></div>            <script type=\"text/javascript\">                require([\"plotly\"], function(Plotly) {                    window.PLOTLYENV=window.PLOTLYENV || {};                                    if (document.getElementById(\"c5c69a4f-f896-4f66-9f02-93251e3a9b52\")) {                    Plotly.newPlot(                        \"c5c69a4f-f896-4f66-9f02-93251e3a9b52\",                        [{\"hovertemplate\":\"variable=count\\u003cbr\\u003eissue_d=%{x}\\u003cbr\\u003eFrequency=%{y}\\u003cextra\\u003e\\u003c\\u002fextra\\u003e\",\"legendgroup\":\"count\",\"line\":{\"color\":\"#1F77B4\",\"dash\":\"solid\"},\"marker\":{\"symbol\":\"circle\"},\"mode\":\"lines\",\"name\":\"count\",\"orientation\":\"v\",\"showlegend\":true,\"x\":[2008,2009,2010,2011,2012,2013,2014,2015,2016,2017,2018],\"xaxis\":\"x\",\"y\":[5,5,28,49,117,350,748,1285,1254,1201,1258],\"yaxis\":\"y\",\"type\":\"scatter\"}],                        {\"template\":{\"data\":{\"barpolar\":[{\"marker\":{\"line\":{\"color\":\"white\",\"width\":0.5},\"pattern\":{\"fillmode\":\"overlay\",\"size\":10,\"solidity\":0.2}},\"type\":\"barpolar\"}],\"bar\":[{\"error_x\":{\"color\":\"rgb(36,36,36)\"},\"error_y\":{\"color\":\"rgb(36,36,36)\"},\"marker\":{\"line\":{\"color\":\"white\",\"width\":0.5},\"pattern\":{\"fillmode\":\"overlay\",\"size\":10,\"solidity\":0.2}},\"type\":\"bar\"}],\"carpet\":[{\"aaxis\":{\"endlinecolor\":\"rgb(36,36,36)\",\"gridcolor\":\"white\",\"linecolor\":\"white\",\"minorgridcolor\":\"white\",\"startlinecolor\":\"rgb(36,36,36)\"},\"baxis\":{\"endlinecolor\":\"rgb(36,36,36)\",\"gridcolor\":\"white\",\"linecolor\":\"white\",\"minorgridcolor\":\"white\",\"startlinecolor\":\"rgb(36,36,36)\"},\"type\":\"carpet\"}],\"choropleth\":[{\"colorbar\":{\"outlinewidth\":1,\"tickcolor\":\"rgb(36,36,36)\",\"ticks\":\"outside\"},\"type\":\"choropleth\"}],\"contourcarpet\":[{\"colorbar\":{\"outlinewidth\":1,\"tickcolor\":\"rgb(36,36,36)\",\"ticks\":\"outside\"},\"type\":\"contourcarpet\"}],\"contour\":[{\"colorbar\":{\"outlinewidth\":1,\"tickcolor\":\"rgb(36,36,36)\",\"ticks\":\"outside\"},\"colorscale\":[[0.0,\"#440154\"],[0.1111111111111111,\"#482878\"],[0.2222222222222222,\"#3e4989\"],[0.3333333333333333,\"#31688e\"],[0.4444444444444444,\"#26828e\"],[0.5555555555555556,\"#1f9e89\"],[0.6666666666666666,\"#35b779\"],[0.7777777777777778,\"#6ece58\"],[0.8888888888888888,\"#b5de2b\"],[1.0,\"#fde725\"]],\"type\":\"contour\"}],\"heatmapgl\":[{\"colorbar\":{\"outlinewidth\":1,\"tickcolor\":\"rgb(36,36,36)\",\"ticks\":\"outside\"},\"colorscale\":[[0.0,\"#440154\"],[0.1111111111111111,\"#482878\"],[0.2222222222222222,\"#3e4989\"],[0.3333333333333333,\"#31688e\"],[0.4444444444444444,\"#26828e\"],[0.5555555555555556,\"#1f9e89\"],[0.6666666666666666,\"#35b779\"],[0.7777777777777778,\"#6ece58\"],[0.8888888888888888,\"#b5de2b\"],[1.0,\"#fde725\"]],\"type\":\"heatmapgl\"}],\"heatmap\":[{\"colorbar\":{\"outlinewidth\":1,\"tickcolor\":\"rgb(36,36,36)\",\"ticks\":\"outside\"},\"colorscale\":[[0.0,\"#440154\"],[0.1111111111111111,\"#482878\"],[0.2222222222222222,\"#3e4989\"],[0.3333333333333333,\"#31688e\"],[0.4444444444444444,\"#26828e\"],[0.5555555555555556,\"#1f9e89\"],[0.6666666666666666,\"#35b779\"],[0.7777777777777778,\"#6ece58\"],[0.8888888888888888,\"#b5de2b\"],[1.0,\"#fde725\"]],\"type\":\"heatmap\"}],\"histogram2dcontour\":[{\"colorbar\":{\"outlinewidth\":1,\"tickcolor\":\"rgb(36,36,36)\",\"ticks\":\"outside\"},\"colorscale\":[[0.0,\"#440154\"],[0.1111111111111111,\"#482878\"],[0.2222222222222222,\"#3e4989\"],[0.3333333333333333,\"#31688e\"],[0.4444444444444444,\"#26828e\"],[0.5555555555555556,\"#1f9e89\"],[0.6666666666666666,\"#35b779\"],[0.7777777777777778,\"#6ece58\"],[0.8888888888888888,\"#b5de2b\"],[1.0,\"#fde725\"]],\"type\":\"histogram2dcontour\"}],\"histogram2d\":[{\"colorbar\":{\"outlinewidth\":1,\"tickcolor\":\"rgb(36,36,36)\",\"ticks\":\"outside\"},\"colorscale\":[[0.0,\"#440154\"],[0.1111111111111111,\"#482878\"],[0.2222222222222222,\"#3e4989\"],[0.3333333333333333,\"#31688e\"],[0.4444444444444444,\"#26828e\"],[0.5555555555555556,\"#1f9e89\"],[0.6666666666666666,\"#35b779\"],[0.7777777777777778,\"#6ece58\"],[0.8888888888888888,\"#b5de2b\"],[1.0,\"#fde725\"]],\"type\":\"histogram2d\"}],\"histogram\":[{\"marker\":{\"line\":{\"color\":\"white\",\"width\":0.6}},\"type\":\"histogram\"}],\"mesh3d\":[{\"colorbar\":{\"outlinewidth\":1,\"tickcolor\":\"rgb(36,36,36)\",\"ticks\":\"outside\"},\"type\":\"mesh3d\"}],\"parcoords\":[{\"line\":{\"colorbar\":{\"outlinewidth\":1,\"tickcolor\":\"rgb(36,36,36)\",\"ticks\":\"outside\"}},\"type\":\"parcoords\"}],\"pie\":[{\"automargin\":true,\"type\":\"pie\"}],\"scatter3d\":[{\"line\":{\"colorbar\":{\"outlinewidth\":1,\"tickcolor\":\"rgb(36,36,36)\",\"ticks\":\"outside\"}},\"marker\":{\"colorbar\":{\"outlinewidth\":1,\"tickcolor\":\"rgb(36,36,36)\",\"ticks\":\"outside\"}},\"type\":\"scatter3d\"}],\"scattercarpet\":[{\"marker\":{\"colorbar\":{\"outlinewidth\":1,\"tickcolor\":\"rgb(36,36,36)\",\"ticks\":\"outside\"}},\"type\":\"scattercarpet\"}],\"scattergeo\":[{\"marker\":{\"colorbar\":{\"outlinewidth\":1,\"tickcolor\":\"rgb(36,36,36)\",\"ticks\":\"outside\"}},\"type\":\"scattergeo\"}],\"scattergl\":[{\"marker\":{\"colorbar\":{\"outlinewidth\":1,\"tickcolor\":\"rgb(36,36,36)\",\"ticks\":\"outside\"}},\"type\":\"scattergl\"}],\"scattermapbox\":[{\"marker\":{\"colorbar\":{\"outlinewidth\":1,\"tickcolor\":\"rgb(36,36,36)\",\"ticks\":\"outside\"}},\"type\":\"scattermapbox\"}],\"scatterpolargl\":[{\"marker\":{\"colorbar\":{\"outlinewidth\":1,\"tickcolor\":\"rgb(36,36,36)\",\"ticks\":\"outside\"}},\"type\":\"scatterpolargl\"}],\"scatterpolar\":[{\"marker\":{\"colorbar\":{\"outlinewidth\":1,\"tickcolor\":\"rgb(36,36,36)\",\"ticks\":\"outside\"}},\"type\":\"scatterpolar\"}],\"scatter\":[{\"fillpattern\":{\"fillmode\":\"overlay\",\"size\":10,\"solidity\":0.2},\"type\":\"scatter\"}],\"scatterternary\":[{\"marker\":{\"colorbar\":{\"outlinewidth\":1,\"tickcolor\":\"rgb(36,36,36)\",\"ticks\":\"outside\"}},\"type\":\"scatterternary\"}],\"surface\":[{\"colorbar\":{\"outlinewidth\":1,\"tickcolor\":\"rgb(36,36,36)\",\"ticks\":\"outside\"},\"colorscale\":[[0.0,\"#440154\"],[0.1111111111111111,\"#482878\"],[0.2222222222222222,\"#3e4989\"],[0.3333333333333333,\"#31688e\"],[0.4444444444444444,\"#26828e\"],[0.5555555555555556,\"#1f9e89\"],[0.6666666666666666,\"#35b779\"],[0.7777777777777778,\"#6ece58\"],[0.8888888888888888,\"#b5de2b\"],[1.0,\"#fde725\"]],\"type\":\"surface\"}],\"table\":[{\"cells\":{\"fill\":{\"color\":\"rgb(237,237,237)\"},\"line\":{\"color\":\"white\"}},\"header\":{\"fill\":{\"color\":\"rgb(217,217,217)\"},\"line\":{\"color\":\"white\"}},\"type\":\"table\"}]},\"layout\":{\"annotationdefaults\":{\"arrowhead\":0,\"arrowwidth\":1},\"autotypenumbers\":\"strict\",\"coloraxis\":{\"colorbar\":{\"outlinewidth\":1,\"tickcolor\":\"rgb(36,36,36)\",\"ticks\":\"outside\"}},\"colorscale\":{\"diverging\":[[0.0,\"rgb(103,0,31)\"],[0.1,\"rgb(178,24,43)\"],[0.2,\"rgb(214,96,77)\"],[0.3,\"rgb(244,165,130)\"],[0.4,\"rgb(253,219,199)\"],[0.5,\"rgb(247,247,247)\"],[0.6,\"rgb(209,229,240)\"],[0.7,\"rgb(146,197,222)\"],[0.8,\"rgb(67,147,195)\"],[0.9,\"rgb(33,102,172)\"],[1.0,\"rgb(5,48,97)\"]],\"sequential\":[[0.0,\"#440154\"],[0.1111111111111111,\"#482878\"],[0.2222222222222222,\"#3e4989\"],[0.3333333333333333,\"#31688e\"],[0.4444444444444444,\"#26828e\"],[0.5555555555555556,\"#1f9e89\"],[0.6666666666666666,\"#35b779\"],[0.7777777777777778,\"#6ece58\"],[0.8888888888888888,\"#b5de2b\"],[1.0,\"#fde725\"]],\"sequentialminus\":[[0.0,\"#440154\"],[0.1111111111111111,\"#482878\"],[0.2222222222222222,\"#3e4989\"],[0.3333333333333333,\"#31688e\"],[0.4444444444444444,\"#26828e\"],[0.5555555555555556,\"#1f9e89\"],[0.6666666666666666,\"#35b779\"],[0.7777777777777778,\"#6ece58\"],[0.8888888888888888,\"#b5de2b\"],[1.0,\"#fde725\"]]},\"colorway\":[\"#1F77B4\",\"#FF7F0E\",\"#2CA02C\",\"#D62728\",\"#9467BD\",\"#8C564B\",\"#E377C2\",\"#7F7F7F\",\"#BCBD22\",\"#17BECF\"],\"font\":{\"color\":\"rgb(36,36,36)\"},\"geo\":{\"bgcolor\":\"white\",\"lakecolor\":\"white\",\"landcolor\":\"white\",\"showlakes\":true,\"showland\":true,\"subunitcolor\":\"white\"},\"hoverlabel\":{\"align\":\"left\"},\"hovermode\":\"closest\",\"mapbox\":{\"style\":\"light\"},\"paper_bgcolor\":\"white\",\"plot_bgcolor\":\"white\",\"polar\":{\"angularaxis\":{\"gridcolor\":\"rgb(232,232,232)\",\"linecolor\":\"rgb(36,36,36)\",\"showgrid\":false,\"showline\":true,\"ticks\":\"outside\"},\"bgcolor\":\"white\",\"radialaxis\":{\"gridcolor\":\"rgb(232,232,232)\",\"linecolor\":\"rgb(36,36,36)\",\"showgrid\":false,\"showline\":true,\"ticks\":\"outside\"}},\"scene\":{\"xaxis\":{\"backgroundcolor\":\"white\",\"gridcolor\":\"rgb(232,232,232)\",\"gridwidth\":2,\"linecolor\":\"rgb(36,36,36)\",\"showbackground\":true,\"showgrid\":false,\"showline\":true,\"ticks\":\"outside\",\"zeroline\":false,\"zerolinecolor\":\"rgb(36,36,36)\"},\"yaxis\":{\"backgroundcolor\":\"white\",\"gridcolor\":\"rgb(232,232,232)\",\"gridwidth\":2,\"linecolor\":\"rgb(36,36,36)\",\"showbackground\":true,\"showgrid\":false,\"showline\":true,\"ticks\":\"outside\",\"zeroline\":false,\"zerolinecolor\":\"rgb(36,36,36)\"},\"zaxis\":{\"backgroundcolor\":\"white\",\"gridcolor\":\"rgb(232,232,232)\",\"gridwidth\":2,\"linecolor\":\"rgb(36,36,36)\",\"showbackground\":true,\"showgrid\":false,\"showline\":true,\"ticks\":\"outside\",\"zeroline\":false,\"zerolinecolor\":\"rgb(36,36,36)\"}},\"shapedefaults\":{\"fillcolor\":\"black\",\"line\":{\"width\":0},\"opacity\":0.3},\"ternary\":{\"aaxis\":{\"gridcolor\":\"rgb(232,232,232)\",\"linecolor\":\"rgb(36,36,36)\",\"showgrid\":false,\"showline\":true,\"ticks\":\"outside\"},\"baxis\":{\"gridcolor\":\"rgb(232,232,232)\",\"linecolor\":\"rgb(36,36,36)\",\"showgrid\":false,\"showline\":true,\"ticks\":\"outside\"},\"bgcolor\":\"white\",\"caxis\":{\"gridcolor\":\"rgb(232,232,232)\",\"linecolor\":\"rgb(36,36,36)\",\"showgrid\":false,\"showline\":true,\"ticks\":\"outside\"}},\"title\":{\"x\":0.5,\"xanchor\":\"center\"},\"xaxis\":{\"automargin\":true,\"gridcolor\":\"rgb(232,232,232)\",\"linecolor\":\"rgb(36,36,36)\",\"showgrid\":true,\"showline\":true,\"ticks\":\"outside\",\"title\":{\"standoff\":15},\"zeroline\":false,\"zerolinecolor\":\"rgb(36,36,36)\"},\"yaxis\":{\"automargin\":true,\"gridcolor\":\"rgb(232,232,232)\",\"linecolor\":\"rgb(36,36,36)\",\"showgrid\":true,\"showline\":true,\"ticks\":\"outside\",\"title\":{\"standoff\":15},\"zeroline\":false,\"zerolinecolor\":\"rgb(36,36,36)\"},\"autosize\":true,\"height\":400,\"margin\":{\"b\":30,\"l\":30,\"r\":30,\"t\":30},\"width\":600}},\"xaxis\":{\"anchor\":\"y\",\"domain\":[0.0,1.0],\"title\":{\"text\":\"issue_d\"}},\"yaxis\":{\"anchor\":\"x\",\"domain\":[0.0,1.0],\"title\":{\"text\":\"Frequency\"}},\"legend\":{\"title\":{\"text\":\"variable\"},\"tracegroupgap\":0},\"title\":{\"text\":\"Number of Loans Granted Per Year\\u003cbr\\u003e(In Sample of Loans)\"},\"showlegend\":false},                        {\"responsive\": true}                    ).then(function(){\n",
       "                            \n",
       "var gd = document.getElementById('c5c69a4f-f896-4f66-9f02-93251e3a9b52');\n",
       "var x = new MutationObserver(function (mutations, observer) {{\n",
       "        var display = window.getComputedStyle(gd).display;\n",
       "        if (!display || display === 'none') {{\n",
       "            console.log([gd, 'removed!']);\n",
       "            Plotly.purge(gd);\n",
       "            observer.disconnect();\n",
       "        }}\n",
       "}});\n",
       "\n",
       "// Listen for the removal of the full notebook cells\n",
       "var notebookContainer = gd.closest('#notebook-container');\n",
       "if (notebookContainer) {{\n",
       "    x.observe(notebookContainer, {childList: true});\n",
       "}}\n",
       "\n",
       "// Listen for the clearing of the current output cell\n",
       "var outputEl = gd.closest('.output');\n",
       "if (outputEl) {{\n",
       "    x.observe(outputEl, {childList: true});\n",
       "}}\n",
       "\n",
       "                        })                };                });            </script>        </div>"
      ]
     },
     "metadata": {},
     "output_type": "display_data"
    }
   ],
   "source": [
    "(\n",
    "    loans['issue_d'].dt.year\n",
    "    .value_counts()\n",
    "    .sort_index()\n",
    "    .plot(kind='line', \n",
    "          labels={'index': 'Year', 'value': 'Frequency'},\n",
    "          title='Number of Loans Granted Per Year<br>(In Sample of Loans)')\n",
    "    .update_layout(showlegend=False)\n",
    ")"
   ]
  },
  {
   "cell_type": "markdown",
   "id": "6b22e742",
   "metadata": {},
   "source": [
    "<!-- ### ✅ Question 2 (Checkpoint Question) -->\n",
    "### ✅ Question 2 (Checkpoint Question)\n",
    "\n",
    "<a id='question2'></a>\n",
    "\n",
    "([return to the outline](#outline))\n",
    "\n",
    "As mentioned at the start of Part 1, lenders give higher interest rates to borrowers they perceive as high-risk. In this question, we'll measure the **correlation** between interest rate (`'int_rate'`) and various other quantitative features: debt-to-income ratio (`'dti'`), annual income (`'annual_inc'`), credit score (`'fico_range_low'`), as well as loan length (`'term'`).\n",
    "\n",
    "We've discussed debt-to-income ratios already, and annual incomes and loan lengths are easy to interpret, but credit scores might be new to you. The general idea behind credit scores is simple: the higher a borrower's credit score is, the more \"trustworthy\" they appear to lenders. FICO, short for the Fair Isaac Corporation, is a private organization that computes credit scores for lenders. FICO credit scores range from 300 (very poor) to 850 (excellent).\n",
    "\n",
    "The DataFrame we have access to has two columns involving FICO scores: `'fico_range_low'` and `'fico_range_high'`. For almost all rows in `loans`, the value for `'fico_range_high'` is just 4 points higher than `'fico_range_low'`, so both columns essentially contain the same information:\n",
    "\n",
    "\n",
    "<table border=\"1\" class=\"dataframe\">\n",
    "  <thead>\n",
    "    <tr style=\"text-align: right;\">\n",
    "      <th></th>\n",
    "      <th>fico_range_low</th>\n",
    "      <th>fico_range_high</th>\n",
    "    </tr>\n",
    "  </thead>\n",
    "  <tbody>\n",
    "    <tr>\n",
    "      <th>0</th>\n",
    "      <td>700.0</td>\n",
    "      <td>704.0</td>\n",
    "    </tr>\n",
    "    <tr>\n",
    "      <th>1</th>\n",
    "      <td>680.0</td>\n",
    "      <td>684.0</td>\n",
    "    </tr>\n",
    "    <tr>\n",
    "      <th>2</th>\n",
    "      <td>705.0</td>\n",
    "      <td>709.0</td>\n",
    "    </tr>\n",
    "    <tr>\n",
    "      <th>3</th>\n",
    "      <td>670.0</td>\n",
    "      <td>674.0</td>\n",
    "    </tr>\n",
    "    <tr>\n",
    "      <th>4</th>\n",
    "      <td>735.0</td>\n",
    "      <td>739.0</td>\n",
    "    </tr>\n",
    "  </tbody>\n",
    "</table>\n",
    "<center><i>The first few rows of <code>loans</code>.</i></center>\n",
    "\n",
    "**So, for simplicity, \"credit scores\" and \"FICO scores\" will always refer to the values in the `'fico_range_low'` column for the rest of the project. Don't use `'fico_range_high'` for anything!** \n",
    "\n",
    "<br>\n",
    "\n",
    "Back to the task at hand. To help us measure the correlation between interest rates and other quantitative features, complete the implementation of the function `correlations`, which takes in:\n",
    "- a DataFrame, `df`, and\n",
    "- a list, `pairs`, of **tuples**, each of which contains the names of two columns in `df`.\n",
    "\n",
    "`correlations` should return a **Series** that has the same length as `pairs`, containing the correlation between each specified pair of columns. The values in the index of the Series should be strings of the form `'r_col1_col2'`, where `'col1'` and `'col2'` are the names of two columns, in the same order they appear in the input tuple.\n",
    "\n",
    "Example behavior is given below.\n",
    "\n",
    "```py\n",
    ">>> correlations(loans, [\n",
    "    ('dti', 'int_rate'),\n",
    "    ('annual_inc', 'mths_since_last_delinq')\n",
    "])\n",
    "\n",
    "r_dti_int_rate                         ???\n",
    "r_annual_inc_mths_since_last_delinq    ???\n",
    "dtype: float64\n",
    "```\n",
    "\n",
    "Of course, your Series will have values that are numbers, not ???.\n",
    "\n",
    "The correlation you compute should be the Pearson correlation, which is the same correlation coefficient you learned about in DSC 10. (In DSC 10, we called the correlation coefficient $r$, hence the index naming scheme above.) You won't have to compute it manually, though – there are a variety of built-in `pandas` and `numpy` methods which compute it for you directly.\n",
    "\n",
    "***Note***: Make sure to test your function on DataFrames other than `loans`!"
   ]
  },
  {
   "cell_type": "code",
   "execution_count": null,
   "id": "0105d820",
   "metadata": {
    "tags": []
   },
   "outputs": [],
   "source": []
  },
  {
   "cell_type": "code",
   "execution_count": null,
   "id": "03e60c00",
   "metadata": {},
   "outputs": [],
   "source": []
  },
  {
   "cell_type": "markdown",
   "id": "91e6c9a0",
   "metadata": {},
   "source": [
    "Run the cell below to call `correlations` on `loans`, to find the correlations between debt-to-income and interest rate, annual income and interest rate, and FICO credit score and interest rate. Make sure to run this cell before moving forward, otherwise the tests won't work correctly."
   ]
  },
  {
   "cell_type": "code",
   "execution_count": 130,
   "id": "e29da40c",
   "metadata": {},
   "outputs": [],
   "source": [
    "q2_correlations = correlations(loans, [\n",
    "    ('dti', 'int_rate'),\n",
    "    ('annual_inc', 'int_rate'),\n",
    "    ('fico_range_low', 'int_rate'),\n",
    "    ('term', 'int_rate')\n",
    "])\n",
    "q2_correlations"
   ]
  },
  {
   "cell_type": "code",
   "execution_count": null,
   "id": "84141e86",
   "metadata": {
    "deletable": false,
    "editable": false
   },
   "outputs": [],
   "source": [
    "grader.check(\"q2\")"
   ]
  },
  {
   "cell_type": "markdown",
   "id": "b90eb604",
   "metadata": {},
   "source": [
    "Run the cell below to draw a bar chart of the three correlations you computed, stored in `q2_correlations`."
   ]
  },
  {
   "cell_type": "code",
   "execution_count": 136,
   "id": "27f20324",
   "metadata": {},
   "outputs": [],
   "source": [
    "(\n",
    "    q2_correlations\n",
    "    .plot(kind='barh', \n",
    "          title='Correlation Between Interest Rate and Various Quantitative Features',\n",
    "          labels={'index': 'Pair of Columns', 'value': 'Correlation'}\n",
    "         )\n",
    "    .update_layout(showlegend=False)\n",
    ")"
   ]
  },
  {
   "cell_type": "markdown",
   "id": "c720fbf1",
   "metadata": {},
   "source": [
    "You should notice that of the four features analyzed, credit scores are most strongly correlated with interest rates, though term lengths also seem to be quite correlated. Let's first take a look at a scatter plot of interest rate vs. credit score."
   ]
  },
  {
   "cell_type": "code",
   "execution_count": 137,
   "id": "be20d05a",
   "metadata": {},
   "outputs": [],
   "source": [
    "px.scatter(loans, x='fico_range_low', y='int_rate',\n",
    "           labels={'fico_range_low': 'Credit Score', 'int_rate': 'Interest Rate (%)'},\n",
    "           title='Interest Rate vs. Credit Score')"
   ]
  },
  {
   "cell_type": "markdown",
   "id": "a1fd20ba",
   "metadata": {},
   "source": [
    "There's a lot of overplotting here, meaning that many points are being plotted on top of one another. It does indeed seem that as credit scores increase, interest rates tend to decrease on average, but perhaps there's a better way to visualize this information.\n"
   ]
  },
  {
   "cell_type": "markdown",
   "id": "dbee96e1",
   "metadata": {},
   "source": [
    "One idea is to place credit scores into categories by **binning** them. According to [Experian](https://www.experian.com/blogs/ask-experian/credit-education/score-basics/what-is-a-good-credit-score/#s1), one of the three major credit bureaus in the US, FICO credit scores are described qualitatively as follows:\n",
    "\n",
    "| Score | Category |\n",
    "|---|---|\n",
    "| 580 - 669 | Fair |\n",
    "| 670 - 739 | Good |\n",
    "| 740 - 799 | Very Good |\n",
    "| 800 - 850 | Excellent |\n",
    "\n",
    "There is actually also a bin below fair, named \"poor\" with a range of 300-579, but since `loans` doesn't have any poor credit scores, we'll exclude them from our exploration here. Note that while the `dtype` of `'fico_range_low'` is `float`, credit scores are actually integers.\n",
    "\n",
    "Once we place credit scores into bins, we can visualize the distribution of interest rates separately for each credit score bin. Here, that would allow us to draw four separate distributions of interest rates – one for the fair group, one for the good group, one for the very good group, and one for the excellent group. Each one of those four distributions are **numerical distributions**, which we have several tools for visualizing; the most common tool you've seen is the histogram, but others exist, like the boxplot and violin plot. Let's explore this idea further!"
   ]
  },
  {
   "cell_type": "markdown",
   "id": "938355f6",
   "metadata": {},
   "source": [
    "### Question 3\n",
    "\n",
    "([return to the outline](#outline))\n",
    "\n",
    "Complete the implementation of the function `create_boxplot`, which takes in a DataFrame like `loans` and returns a `plotly` figure object containing a **boxplot describing the distribution of interest rates, separately for each of the four credit score bins mentioned above, and separately for the two loan lengths**. Here's an example of the plot you'll need to create:\n",
    "\n",
    "<center><img src=\"imgs/example-q3.png\" width=60%></center>\n",
    "\n",
    "To create your figure, you'll use the `px.box` function and provide several arguments. This [`plotly` article](https://plotly.com/python/box-plots/) will be extremely helpful.\n",
    "\n",
    "Before using `px.box`, though, you'll need to place credit scores into bins. There's a `pandas` function that will be helpful here. **Make sure the bins match those in our example plot exactly – inclusive of the left endpoint and exclusive of the right endpoint.** You'll need to hard-code these when creating your plot. You can assume that nobody has an exact credit score of 850. Once you've binned scores, you'll need to convert your Series of bin assignments to strings so that they can be used on the $x$-axis of a `px.box` figure.\n",
    "\n",
    "Here are some additional requirements for you to get full credit on your boxplot:\n",
    "- Make sure your axis labels, legend labels, and title are the same as ours.\n",
    "- You **must** change the colors of the two terms from the default colors to something else. We chose purple and gold. To do this, you'll need to manually specify what color you want for the `36` group and the `60` group; it is fine to hard-code these two term lengths when creating your plot.\n",
    "\n",
    "Lastly, remember that credit scores are stored in `'fico_range_low'`. "
   ]
  },
  {
   "cell_type": "code",
   "execution_count": null,
   "id": "4114f739",
   "metadata": {
    "tags": []
   },
   "outputs": [],
   "source": []
  },
  {
   "cell_type": "code",
   "execution_count": null,
   "id": "e02991af",
   "metadata": {
    "tags": []
   },
   "outputs": [],
   "source": []
  },
  {
   "cell_type": "markdown",
   "id": "b59535c9",
   "metadata": {},
   "source": [
    "Run the cell below to draw your boxplot. If you did everything correctly, it should look like the example above. Make sure to run this cell before moving forward, otherwise the tests won't work correctly."
   ]
  },
  {
   "cell_type": "code",
   "execution_count": 139,
   "id": "f50f2d92",
   "metadata": {},
   "outputs": [],
   "source": [
    "q3_fig = create_boxplot(loans)\n",
    "q3_fig"
   ]
  },
  {
   "cell_type": "code",
   "execution_count": null,
   "id": "c1987f22",
   "metadata": {
    "deletable": false,
    "editable": false
   },
   "outputs": [],
   "source": [
    "grader.check(\"q3\")"
   ]
  },
  {
   "cell_type": "markdown",
   "id": "a357d0c3",
   "metadata": {},
   "source": [
    "If you created your boxplot correctly, you should have seen a few things:\n",
    "- As borrowers' credit scores increase, both the median and variance in interest rates tend to decrease.\n",
    "- Across the spectrum of credit scores, 60 month loans tend to have higher interest rates than 36 month loans.\n",
    "\n",
    "You might wonder why longer loans have higher interest rates. From [The Motley Fool](https://www.fool.com/the-ascent/personal-loans/longer-repayment-terms-personal-loans-pros-cons/#:~:text=A%20longer%20term%20is%20riskier,charge%20a%20higher%20interest%20rate.):\n",
    "\n",
    "> A longer term is riskier for the lender because there's more of a chance interest rates will change dramatically during that time. There's also more of a chance something will go wrong and you won't pay the loan back. Because it's a riskier loan to make, lenders charge a higher interest rate.\n",
    "\n",
    "Good to know!"
   ]
  },
  {
   "cell_type": "markdown",
   "id": "ec8617fb",
   "metadata": {},
   "source": [
    "Now that we've investigated the role of some of the quantitative factors behind interest rates, let's look at some of the more subjective factors. Take a look at the following personal statement, for example:\n",
    "\n",
    "> i recently proposed to my girlfriend of almost 8 yrs now and everything was going well untill our pug (ody) the middle of my three dogs started limping around and stumbling all the time. well come to find out he has a tumor on his spine. not very good news for us as our dogs are pretty much our children. so the reason for my loan request is the money i spent on the engagement ring was most of my savings and then i had to take out paydayloans loans for the mylogram bill, wich is similar to an MRI. $2,700 along with meds, visits etc.\n",
    "\n",
    "You suspect that, perhaps, loans that included personal statements in their applications were given higher interest rates than loans that didn't include personal statements in their applications. This is true in `loans`:"
   ]
  },
  {
   "cell_type": "code",
   "execution_count": 149,
   "id": "cef24d25",
   "metadata": {},
   "outputs": [],
   "source": [
    "display(loans.assign(has_ps=loans['desc'].notna()).groupby('has_ps')['int_rate'].describe())\n",
    "create_kde_plotly(\n",
    "    loans.assign(has_ps=loans['desc'].notna()),\n",
    "    'has_ps',\n",
    "    True,\n",
    "    False,\n",
    "    'int_rate',\n",
    "    title='Distributions of Interest Rates<br>Based on Inclusion of Personal Statement'\n",
    ")"
   ]
  },
  {
   "cell_type": "markdown",
   "id": "072c779d",
   "metadata": {},
   "source": [
    "But remember, `loans` is just a sample from a much larger population of loan applications. Is this observed difference statistically significant? Let's perform a permutation test."
   ]
  },
  {
   "cell_type": "markdown",
   "id": "6e8da083",
   "metadata": {},
   "source": [
    "### Question 4\n",
    "\n",
    "<a name='Question-4'></a> \n",
    "\n",
    "([return to the outline](#outline))\n",
    "\n",
    "#### `ps_test`\n",
    "\n",
    "Complete the implementation of the function `ps_test`, which takes in two arguments – a DataFrame like `loans` and a number `N` of repetitions – and returns the p-value for the following permutation test:\n",
    "\n",
    "- **Null Hypothesis**: Interest rates given to applications with personal statements are the same, on average, as the interest rates given to applications without personal statements.\n",
    "- **Alternative Hypothesis**: Interest rates given to applications with personal statements are larger on average than interest rates given to applications without personal statements.\n",
    "\n",
    "As your test statistic, use the **difference in group means (with statement mean minus without statement mean)**.\n",
    "\n",
    "<br>\n",
    "\n",
    "\n",
    "#### `missingness_mechanism`\n",
    "\n",
    "While not stated above explicitly, we can interpret our permutation test as one that assesses whether the missingness of a personal statement is dependent on interest rate.\n",
    "\n",
    "Run your `ps_test` function with 5000 repetitions. Given the p-value you saw, what do you believe is the most likely missingness mechanism of the personal statement column, assuming we've narrowed down the missingness mechanism to these two options?\n",
    "\n",
    "1. Missing completely at random (MCAR).\n",
    "1. Missing at random (MAR) dependent on interest rate.\n",
    "\n",
    "Complete the implementation of the function `missingness_mechanism`, which takes in no arguments and returns either 1 or 2, corresponding to your answer to the question above.\n",
    "\n",
    "<br>\n",
    "\n",
    "#### `argument_for_nmar`\n",
    "\n",
    "In the function above, we had you use your permutation test to decide between MCAR and MAR as the likely missingness mechanism for personal statements. But, you could make an argument that personal statements are not missing at random (NMAR), too.\n",
    "\n",
    "Complete the implementation of the function `argument_for_nmar`, which takes in no arguments and returns a **string** with a one-sentence justification as to why personal statements may be not missing at random.\n",
    "\n",
    "***Note***: We may manually grade your answer to `argument_for_nmar` – passing the autograder tests for `argument_for_nmar` is not necessarily sufficient!"
   ]
  },
  {
   "cell_type": "code",
   "execution_count": null,
   "id": "bbe1131e",
   "metadata": {
    "tags": []
   },
   "outputs": [],
   "source": []
  },
  {
   "cell_type": "code",
   "execution_count": null,
   "id": "043f0925",
   "metadata": {
    "tags": []
   },
   "outputs": [],
   "source": []
  },
  {
   "cell_type": "code",
   "execution_count": null,
   "id": "16893ab6",
   "metadata": {
    "deletable": false,
    "editable": false
   },
   "outputs": [],
   "source": [
    "grader.check(\"q4\")"
   ]
  },
  {
   "cell_type": "markdown",
   "id": "ffbe54ce",
   "metadata": {},
   "source": [
    "<a id='part2'></a>\n",
    "\n",
    "## Part 2: Calculating Disposable Incomes 💰\n",
    "\n",
    "([return to the outline](#outline))\n",
    "\n",
    "In Part 1, we focused on understanding how the interest rates LendingClub chose to give to borrowers depended on different aspects of a borrower's application. In Part 2, we'll focus on understanding borrowers' **disposable incomes**, or net incomes:\n",
    "\n",
    "$$\n",
    "\\text{Disposable Income} = \\text{Gross Income} - \\text{Federal Income Tax} - \\text{State Income Tax} \n",
    "$$\n",
    "\n",
    "This is a minor simplification, because [some cities](https://www.stlouis-mo.gov/government/departments/comptroller/initiatives/us-cities-that-levy-earnings-taxes.cfm) also collect city-specific income taxes, but we'll ignore those here. Note that the `'annual_inc'` column in `loans` contains each borrower's gross income – that is, their income before taxes are removed.\n",
    "\n",
    "Understanding a borrower's disposable income enables lenders to evaluate a borrower's ability to meet loan obligations, ensuring that the risk of failing to pay back the loan (or **defaulting**) is minimized. In other words, knowing a borrower's disposable income allows lenders to structure loan payments in a way that aligns with the borrower's cash flow, reducing the likelihood of missed payments.\n",
    "\n",
    "The United States, like many countries, uses a progressive tax bracket system. This means that as your earnings increase, the percentage of your earnings you owe in tax also increases. In addition, the US tax system uses marginal tax brackets – what this means is that US taxpayers pay different tax percentages on different \"chunks\" of their earnings.\n",
    "\n",
    "Here's how Part 2 is structured:\n",
    "- In Question 5, you'll define a general purpose function that takes in a gross income and an arbitrary tax bracket and returns the amount of tax owed.\n",
    "- In Questions 6 and 7, you'll clean a DataFrame that contains tax brackets for different states so that the brackets are in a format that you can use with your function from Question 5.\n",
    "- And finally, in Question 8, you'll compute the amount of disposable income each borrower has.\n",
    "\n",
    "Let's get started!"
   ]
  },
  {
   "cell_type": "markdown",
   "id": "a0e7c8e1",
   "metadata": {},
   "source": [
    "### Question 5\n",
    "\n",
    "<a name='Question-5'></a>\n",
    "\n",
    "([return to the outline](#outline))\n",
    "\n",
    "Let's use the following example to illustrate how tax brackets work. You may have actually seen the same example in DSC 10, but for reasons you're about to see, your implementation will be a bit more complicated here.\n",
    "\n",
    "| Tax Rate | Tax Bracket |\n",
    "| --- | --- |\n",
    "| 10% | [$0, \\\\$11,000] |\n",
    "| 12% | (\\\\$11,000, \\\\$44,725] |\n",
    "| 22% | (\\\\$44,725, \\\\$95,375] |\n",
    "| 24% | (\\\\$95,375, \\\\$182,100] |\n",
    "| 32% | (\\\\$182,100, \\\\$231,251] |\n",
    "| 35% | (\\\\$231,251, \\\\$578,125] |\n",
    "| 37% | Over \\\\$578,125        |\n",
    "\n",
    "\n",
    "If someone has a gross, or **taxable**, income of \\\\$75,000, we say they are in the 22% tax bracket. However, such an individual doesn't owe 22% of \\\\$75,000 in taxes. Instead, they owe:\n",
    "- 10% of \\\\$11,000, **plus**\n",
    "- 12% of \\\\$33,725 (which is \\\\$44,725 - \\\\$11,000), **plus**\n",
    "- 22% of \\\\$30,275 (which is \\\\$75,000 - \\\\$44,725).\n",
    "\n",
    "More concretely, their tax owed is\n",
    "$$0.1 \\cdot \\$11{,}000 + 0.12 \\cdot \\$33{,}725 + 0.22 \\cdot \\$30{,}275 = \\$11,807.50.$$\n",
    "\n",
    "\n",
    "<br>\n",
    "\n",
    "For the purposes of this question, we will express tax brackets – like the one in the table above – using a **list of tuples**. For instance, we can express the tax brackets above as follows:\n",
    "\n",
    "```py\n",
    "[(0.1, 0), \n",
    " (0.12, 11000), \n",
    " (0.22, 44725), \n",
    " (0.24, 95375), \n",
    " (0.32, 182100),\n",
    " (0.35, 231251),\n",
    " (0.37, 578125)\n",
    "]\n",
    "```\n",
    "\n",
    "Each tuple is structured as `(tax_rate, bracket_lower_limit)`. For example, `(0.1, 0)` indicates a 10% tax rate for income above \\\\$0.\n",
    "\n",
    "Before implementing anything, make sure you deeply understand:\n",
    "1. How we found that a gross income of \\\\$75,000 owes \\\\$11,807.50 in taxes using the brackets above.\n",
    "1. How we've represented the brackets from the table above as a list of tuples.\n",
    "\n",
    "<br>\n",
    "\n",
    "Now, complete the implementation of the function `tax_owed`, which takes in a float, `income`, and a list of tuples, `brackets`, and returns the amount of tax owed on a gross income of `income`, using the provided `brackets` (formatted as in the example above).\n",
    "\n",
    "Example behavior is given below.\n",
    "\n",
    "```py\n",
    ">>> tax_owed(75000, \n",
    "[(0.1, 0), \n",
    " (0.12, 11000), \n",
    " (0.22, 44725), \n",
    " (0.24, 95375), \n",
    " (0.32, 182100),\n",
    " (0.35, 231251),\n",
    " (0.37, 578125)\n",
    "])\n",
    "11807.5\n",
    "```\n",
    "\n",
    "**Make sure to test your function with brackets other than the one above, and verify that it works correctly by replicating the calculations by hand!**"
   ]
  },
  {
   "cell_type": "code",
   "execution_count": null,
   "id": "8203d595",
   "metadata": {
    "tags": []
   },
   "outputs": [],
   "source": []
  },
  {
   "cell_type": "markdown",
   "id": "3194ef4f",
   "metadata": {},
   "source": [
    "The cell below defines the same example brackets we provided in the example above. Feel free to use them in your testing, but remember to test your functions with other brackets. Make sure to run this cell before moving forward, otherwise the tests won't work correctly."
   ]
  },
  {
   "cell_type": "code",
   "execution_count": 160,
   "id": "1e271d77",
   "metadata": {},
   "outputs": [],
   "source": [
    "example_brackets = [\n",
    " (0.1, 0), \n",
    " (0.12, 11000), \n",
    " (0.22, 44725), \n",
    " (0.24, 95375), \n",
    " (0.32, 182100),\n",
    " (0.35, 231251),\n",
    " (0.37, 578125)]\n",
    "example_owed = tax_owed(75000, example_brackets)\n",
    "example_owed"
   ]
  },
  {
   "cell_type": "code",
   "execution_count": null,
   "id": "6ea40896",
   "metadata": {
    "deletable": false,
    "editable": false
   },
   "outputs": [],
   "source": [
    "grader.check(\"q5\")"
   ]
  },
  {
   "cell_type": "markdown",
   "id": "f0809a45",
   "metadata": {},
   "source": [
    "Now that we have a general-purpose function that can take in a gross income and a list of tax brackets and return the tax owed, we want to use this function to compute both the **state** and **federal** taxes each loan applicant owed.\n",
    "\n",
    "To start this process, we'll load in a DataFrame that contains the tax brackets for each state in 2023 ([source](https://taxfoundation.org/data/all/state/state-income-tax-rates-2023/)). Not all of the loan applications were submitted in 2023 – in fact, they were all submitted between 2008 and 2018 – but brackets don't change very much from year to year, so for simplicity we'll use these brackets throughout.\n",
    "\n",
    "Run the cell below to define a DataFrame named `state_taxes_raw` with the relevant information."
   ]
  },
  {
   "cell_type": "code",
   "execution_count": 167,
   "id": "8e84ae6c",
   "metadata": {},
   "outputs": [],
   "source": [
    "state_taxes_raw_path = Path('data') / 'state_taxes_raw.csv'\n",
    "state_taxes_raw = pd.read_csv(state_taxes_raw_path)\n",
    "state_taxes_raw.head()"
   ]
  },
  {
   "cell_type": "markdown",
   "id": "0321e8e1",
   "metadata": {},
   "source": [
    "As you can see, the state of the DataFrame is a bit hard to parse. The information we need is in there, but you'll need to clean 🧹 it up so that it's in the right format.\n",
    "\n",
    "**Before proceeding, you may want to open `data/state_taxes_raw.csv` in your text editor to see how it's formatted!**"
   ]
  },
  {
   "cell_type": "markdown",
   "id": "8b112273",
   "metadata": {},
   "source": [
    "### Question 6\n",
    "\n",
    "<a name='Question-6'></a>\n",
    "\n",
    "([return to the outline](#outline))\n",
    "\n",
    "Complete the implementation of the function `clean_state_taxes`, which takes in a DataFrame like `state_taxes_raw` and returns a cleaned version of it. The first few rows of `clean_state_taxes(state_taxes_raw)` should look like this:\n",
    "\n",
    "<table border=\"1\" class=\"dataframe\">\n",
    "  <thead>\n",
    "    <tr style=\"text-align: right;\">\n",
    "      <th></th>\n",
    "      <th>State</th>\n",
    "      <th>Rate</th>\n",
    "      <th>Lower Limit</th>\n",
    "    </tr>\n",
    "  </thead>\n",
    "  <tbody>\n",
    "    <tr>\n",
    "      <th>0</th>\n",
    "      <td>Ala.</td>\n",
    "      <td>0.02</td>\n",
    "      <td>0</td>\n",
    "    </tr>\n",
    "    <tr>\n",
    "      <th>1</th>\n",
    "      <td>Ala.</td>\n",
    "      <td>0.04</td>\n",
    "      <td>500</td>\n",
    "    </tr>\n",
    "    <tr>\n",
    "      <th>2</th>\n",
    "      <td>Ala.</td>\n",
    "      <td>0.05</td>\n",
    "      <td>3000</td>\n",
    "    </tr>\n",
    "    <tr>\n",
    "      <th>4</th>\n",
    "      <td>Alaska</td>\n",
    "      <td>0.00</td>\n",
    "      <td>0</td>\n",
    "    </tr>\n",
    "    <tr>\n",
    "      <th>6</th>\n",
    "      <td>Ariz.</td>\n",
    "      <td>0.02</td>\n",
    "      <td>0</td>\n",
    "    </tr>\n",
    "  </tbody>\n",
    "</table>\n",
    "\n",
    "\n",
    "\n",
    "Here's what you need to do to clean `state_taxes_raw`:\n",
    "\n",
    "- Each state is separated by a row full of null values – drop these.\n",
    "- Modify the `'State'` column so that each rate and bracket limit has its corresponding state name filled in.\n",
    "    - Note that values like `'(a, b, c)'` are meaningless and shouldn't appear in the final DataFrame.\n",
    "    - There are many ways you can go about this, but perhaps the easiest way is to replace all strings that are currently in the `'State'` column that aren't state names with null values, then fill in all null values – many of which were already there – with the state name that appears most recently above it. There's a way to do this natively in `pandas`; **don't use a `for`-loop**.\n",
    "- Modify the `'Rate'` column so that all values are stored as floats that represent **proportions**.\n",
    "    - Round the proportions to two decimal places to avoid any potential floating point precision errors.\n",
    "    - Make sure to account for states that don't have any state income tax (like Alaska).\n",
    "- Modify the `'Lower Limit'` column so that all values are stored as integers.\n",
    "    - States with no state income tax have null `'Lower Limit'` values; make sure to set these `'Lower Limit'`s to 0.\n",
    "    \n",
    "This is quite an involved problem. Try to organize your work as best as you can, for instance, by using many helper functions and the `pipe` DataFrame method. **Nothing about this question requires the use of a `for`-loop, so don't use one!**"
   ]
  },
  {
   "cell_type": "code",
   "execution_count": null,
   "id": "877f70d9",
   "metadata": {
    "tags": []
   },
   "outputs": [],
   "source": []
  },
  {
   "cell_type": "markdown",
   "id": "2271c35b",
   "metadata": {},
   "source": [
    "Run the cell below to call `clean_state_taxes` on `state_taxes_raw` to produce a new DataFrame, `state_taxes`. Make sure to run this cell before moving forward, otherwise the tests won't work correctly."
   ]
  },
  {
   "cell_type": "code",
   "execution_count": 169,
   "id": "3544aa85",
   "metadata": {},
   "outputs": [],
   "source": [
    "state_taxes_raw = pd.read_csv(state_taxes_raw_path)\n",
    "state_taxes = clean_state_taxes(state_taxes_raw)\n",
    "state_taxes.head()"
   ]
  },
  {
   "cell_type": "code",
   "execution_count": null,
   "id": "cf77df4d",
   "metadata": {
    "deletable": false,
    "editable": false
   },
   "outputs": [],
   "source": [
    "grader.check(\"q6\")"
   ]
  },
  {
   "cell_type": "markdown",
   "id": "3f95030b",
   "metadata": {},
   "source": [
    "Moving forward, remember to refer to `state_taxes`, **not** `state_taxes_raw`."
   ]
  },
  {
   "cell_type": "markdown",
   "id": "c13dd41c",
   "metadata": {},
   "source": [
    "### Question 7\n",
    "\n",
    "<a name='Question-7'></a>\n",
    "\n",
    "([return to the outline](#outline))\n",
    "\n",
    "While the information in `state_taxes` is now a bit more interpretable, the brackets in it are not quite compatible with our `tax_owed` function from Question 5. Here, we'll work on reformatting the brackets in `state_taxes` to be in a more useful format, and combining the resulting brackets with the other information we have (including, most importantly, incomes) for each borrower.\n",
    "\n",
    "#### `state_brackets`\n",
    "\n",
    "Complete the implementation of the function `state_brackets`, which takes in a cleaned DataFrame like `state_taxes` and returns a new DataFrame, indexed by `'State'`, with a single column, `'bracket_list'`, that contains the tax brackets for each state as **lists of tuples** in the form `(tax_rate, bracket_lower_limit)`.\n",
    "\n",
    "The first few rows of `state_brackets(state_taxes)` should look like this:\n",
    "\n",
    "<table border=\"1\" class=\"dataframe\">\n",
    "  <thead>\n",
    "    <tr style=\"text-align: right;\">\n",
    "      <th></th>\n",
    "      <th>bracket_list</th>\n",
    "    </tr>\n",
    "    <tr>\n",
    "      <th>State</th>\n",
    "      <th></th>\n",
    "    </tr>\n",
    "  </thead>\n",
    "  <tbody>\n",
    "    <tr>\n",
    "      <th>Ala.</th>\n",
    "      <td>[(0.02, 0), (0.04, 500), (0.05, 3000)]</td>\n",
    "    </tr>\n",
    "    <tr>\n",
    "      <th>Alaska</th>\n",
    "      <td>[(0.0, 0)]</td>\n",
    "    </tr>\n",
    "    <tr>\n",
    "      <th>Ariz.</th>\n",
    "      <td>[(0.02, 0)]</td>\n",
    "    </tr>\n",
    "    <tr>\n",
    "      <th>Ark.</th>\n",
    "      <td>[(0.02, 0), (0.04, 4300), (0.05, 8500)]</td>\n",
    "    </tr>\n",
    "  </tbody>\n",
    "</table>\n",
    "\n",
    "Again, don't use a `for`-loop! Instead, there's a technique you learned about in DSC 20 that'll be helpful here 🤐. In addition, don't forget that you can apply a function to every **row** of a DataFrame by using the DataFrame `apply` method with `axis=1`. `lambda` functions are your friend! 🫂\n",
    "\n",
    "<br>\n",
    "\n",
    "#### `combine_loans_and_state_taxes`\n",
    "\n",
    "Complete the implementation of the function `combine_loans_and_state_taxes`. It should take in two DataFrames:\n",
    "- One like `loans`, and\n",
    "- One like `state_taxes` (that is, one that is returned by `clean_state_taxes` from Question 5).\n",
    "\n",
    "`combine_loans_and_state_taxes` should return a new DataFrame that has all of the same rows and columns as `loans`, except:\n",
    "- There is an additional column, `'bracket_list'`, corresponding to the tax bracket list in each state.\n",
    "- The name of the column containing states is `'State'` (which is not what it currently is in `loans`), with state names formatted as two-letter abbreviations (e.g. `'CA'`).\n",
    "\n",
    "On the surface, this may seem straightforward: just call `state_brackets` on `state_taxes` and merge the resulting DataFrame with `loans`. But it's not that easy – the names of states are formatted differently in both `loans` (which uses two-letter abbreviations) and `state_taxes` (which uses non-standard shortened names). To help, we've provided you with a JSON file, `data/state_mapping.json`, that we load in as a dictionary at the top of `combine_loans_and_state_taxes`. Take a peek at `data/state_mapping.json` in your text editor to see how it's structured!"
   ]
  },
  {
   "cell_type": "code",
   "execution_count": null,
   "id": "d06985bb",
   "metadata": {
    "tags": []
   },
   "outputs": [],
   "source": []
  },
  {
   "cell_type": "code",
   "execution_count": null,
   "id": "86a4794c",
   "metadata": {
    "tags": []
   },
   "outputs": [],
   "source": []
  },
  {
   "cell_type": "markdown",
   "id": "1b6df515",
   "metadata": {},
   "source": [
    "Run the cell below to call `combine_loans_and_state_taxes` on `loans` and `state_taxes` to produce a new DataFrame, `loans_with_state_taxes`. Make sure to run this cell before moving forward, otherwise the tests won't work correctly."
   ]
  },
  {
   "cell_type": "code",
   "execution_count": 180,
   "id": "c5b3f916",
   "metadata": {},
   "outputs": [],
   "source": [
    "loans = clean_loans(pd.read_csv(loans_path))\n",
    "state_taxes = clean_state_taxes(pd.read_csv(state_taxes_raw_path))\n",
    "loans_with_state_taxes = combine_loans_and_state_taxes(loans, state_taxes)\n",
    "loans_with_state_taxes.head()"
   ]
  },
  {
   "cell_type": "code",
   "execution_count": null,
   "id": "d05fd84a",
   "metadata": {
    "deletable": false,
    "editable": false
   },
   "outputs": [],
   "source": [
    "grader.check(\"q7\")"
   ]
  },
  {
   "cell_type": "markdown",
   "id": "367bb272",
   "metadata": {},
   "source": [
    "### Question 8\n",
    "\n",
    "<a name='Question-8'></a>\n",
    "\n",
    "([return to the outline](#outline))\n",
    "\n",
    "We now have all of the information we need to compute each borrower's disposable income:\n",
    "\n",
    "$$\n",
    "\\text{Disposable Income} = \\text{Gross Income} - \\text{Federal Income Tax} - \\text{State Income Tax} \n",
    "$$\n",
    "\n",
    "Complete the implementation of the function `find_disposable_income`, which takes in a DataFrame like `loans_with_state_taxes` and returns a copy of the input DataFrame with three additional columns:\n",
    "\n",
    "- `'federal_tax_owed'`, which contains the amount this individual owes in federal income taxes. To calculate federal income taxes, use the `FEDERAL_BRACKETS` list provided to you in the definition of `find_disposable_income`.\n",
    "- `'state_tax_owed'`, which contains the amount this individual owes in state income taxes. To calculate state income taxes, use the values in the `'brackets_list'` column, which depend on the borrower's state of residence.\n",
    "- `'disposable_income'`, which contains this individual's disposable income, which is their income after subtracting federal and state taxes from their gross income.\n",
    "\n",
    "Note that both federal taxes and state taxes are calculated based on an individual's gross income; this means you'll need to use values from the `'annual_inc'` column both when calculating federal taxes and state taxes."
   ]
  },
  {
   "cell_type": "code",
   "execution_count": null,
   "id": "38884df4",
   "metadata": {
    "tags": []
   },
   "outputs": [],
   "source": []
  },
  {
   "cell_type": "code",
   "execution_count": null,
   "id": "be02b99a",
   "metadata": {
    "tags": []
   },
   "outputs": [],
   "source": []
  },
  {
   "cell_type": "markdown",
   "id": "036ee19f",
   "metadata": {},
   "source": [
    "Run the cell below to call `find_disposable_income` on `loans_with_state_taxes` to produce a new DataFrame, `with_disposable_income`. Make sure to run this cell before moving forward, otherwise the tests won't work correctly."
   ]
  },
  {
   "cell_type": "code",
   "execution_count": 191,
   "id": "0e23dcb3",
   "metadata": {},
   "outputs": [],
   "source": [
    "with_disposable_income = find_disposable_income(loans_with_state_taxes)\n",
    "with_disposable_income.head()"
   ]
  },
  {
   "cell_type": "code",
   "execution_count": null,
   "id": "1ea5d1de",
   "metadata": {
    "deletable": false,
    "editable": false
   },
   "outputs": [],
   "source": [
    "grader.check(\"q8\")"
   ]
  },
  {
   "cell_type": "markdown",
   "id": "6210936d",
   "metadata": {},
   "source": [
    "Nice work! To wrap up this section, we'll show you one of the many visualizations you can create using the calculations you just did.\n",
    "\n",
    "All you need to do here is read through the cell below, try and understand the code, run the cell, and look at the resulting visualization. What trends do you notice?"
   ]
  },
  {
   "cell_type": "code",
   "execution_count": 197,
   "id": "90369e04",
   "metadata": {},
   "outputs": [],
   "source": [
    "effective_tax_per_state = (\n",
    "    with_disposable_income\n",
    "    .groupby('State')\n",
    "    .apply(lambda df: df['state_tax_owed'].sum() / df['annual_inc'].sum())\n",
    ")\n",
    "\n",
    "median_income = (\n",
    "    with_disposable_income\n",
    "    .groupby('State')\n",
    "    ['annual_inc']\n",
    "    .median()\n",
    ")\n",
    "\n",
    "(\n",
    "    pd.DataFrame()\n",
    "    .assign(\n",
    "        effective_tax_per_state=effective_tax_per_state, \n",
    "        median_income=median_income,\n",
    "        count=with_disposable_income.value_counts('State')\n",
    "    )\n",
    "    .reset_index()\n",
    "    .plot(\n",
    "        kind='scatter',\n",
    "        x='median_income',\n",
    "        y='effective_tax_per_state',\n",
    "        hover_name='State',\n",
    "        size='count',\n",
    "        title='Effective State Tax Rate vs. Median Income Per State',\n",
    "        labels={\n",
    "            'median_income': 'Median Income',\n",
    "            'effective_tax_per_state': 'Effective State Tax Rate<br>sum(state tax) / sum(annual income)',\n",
    "            'count': 'Number of Borrowers'\n",
    "        }\n",
    "    )\n",
    ")"
   ]
  },
  {
   "cell_type": "markdown",
   "id": "8ca3226d",
   "metadata": {},
   "source": [
    "<a id='part3'></a>\n",
    "\n",
    "## Part 3: Identifying Simpson's Paradox 🙃\n",
    "\n",
    "([return to the outline](#outline))\n",
    "\n",
    "In [Lecture 4](https://dsc80.com/resources/lectures/lec04/lec04-filled.html), we introduced the idea of Simpson's Paradox, which occurs when grouped data and ungrouped data show opposing trends. In this final part of the project, we'll try and identify instances of Simpson's Paradox in `loans`."
   ]
  },
  {
   "cell_type": "markdown",
   "id": "b2951a80",
   "metadata": {},
   "source": [
    "### Question 9\n",
    "\n",
    "<a name='Question-9'></a>\n",
    "\n",
    "([return to the outline](#outline))\n",
    "\n",
    "Complete the implementation of the function `aggregate_and_combine`. It takes in four arguments:\n",
    "\n",
    "- `loans`, a DataFrame like `loans`,\n",
    "- `keywords`, a list of two strings corresponding to keywords to look for in job titles (e.g. `'engineer'`, `'nurse'`, `'teacher'`),\n",
    "- `quantitative_column`, a string corresponding to a quantitative column in `loans`, and\n",
    "- `categorical_column`, a string corresponding to a categorical column in `loans`.\n",
    "\n",
    "It should return a DataFrame that contains the mean value in `quantitative_column` given to those with `keywords[0]` in their job title and `keywords[1]` in their job title, both overall and separately for each group in `categorical_column`.\n",
    "\n",
    "That's a little cryptic, we know. Let's look at an example to clarify things. For instance, the DataFrame below shows what the output of the following function call should look like:\n",
    "\n",
    "```py\n",
    "aggregate_and_combine(loans, ['engineer', 'nurse'], 'loan_amnt', 'home_ownership')\n",
    "```\n",
    "\n",
    "<table border=\"1\" class=\"dataframe\">\n",
    "  <thead>\n",
    "    <tr style=\"text-align: right;\">\n",
    "      <th></th>\n",
    "      <th>engineer_mean_loan_amnt</th>\n",
    "      <th>nurse_mean_loan_amnt</th>\n",
    "    </tr>\n",
    "    <tr>\n",
    "      <th>home_ownership</th>\n",
    "      <th></th>\n",
    "      <th></th>\n",
    "    </tr>\n",
    "  </thead>\n",
    "  <tbody>\n",
    "    <tr>\n",
    "      <th>MORTGAGE</th>\n",
    "      <td>???</td>\n",
    "      <td>???</td>\n",
    "    </tr>\n",
    "    <tr>\n",
    "      <th>OWN</th>\n",
    "      <td>???</td>\n",
    "      <td>???</td>\n",
    "    </tr>\n",
    "    <tr>\n",
    "      <th>RENT</th>\n",
    "      <td>???</td>\n",
    "      <td>14358.86</td>\n",
    "    </tr>\n",
    "    <tr>\n",
    "      <th>Overall</th>\n",
    "      <td>16341.74</td>\n",
    "      <td>???</td>\n",
    "    </tr>\n",
    "  </tbody>\n",
    "</table>\n",
    "\n",
    "This DataFrame depicts the mean loan amount given to those with `'engineer'` in their job title and `'nurse'` in their job title, both overall and separately for each home ownership status. We've intentionally hidden most of the values from you, but the two values you do see in the DataFrame match those that you're supposed to produce yourself.\n",
    "\n",
    "Some things to point out:\n",
    "- The `'Overall'` row is the last row in the returned DataFrame. **This must also be the case with your implementation of the function.** Note that the `'Overall'` row is **not** simply just the average of the rows above it – think about why this is the case!\n",
    "- The two column names are `'engineer_mean_loan_amnt'` and `'nurse_mean_loan_amnt'`. We used f-strings to create these: if `keyword` is something like `'nurse'`, then `f'{keyword}_mean_{quantitative_column}'` creates the necessary column names. **Make sure the two columns in your returned DataFrame are formatted exactly this way!**\n",
    "- You should assume the two keywords in `keywords` are lowercase. Remember, all the way back in Question 1, you cleaned `loans` so that all employment titles in the `'emp_title'` column are lowercase.\n",
    "- The above table is just an exmaple. You do not need to round to two decimals in your own answer.\n",
    "\n",
    "***Hint***: You _can_ use a `for`-loop here to avoid repeating yourself. Our solution has a `for`-loop that only runs through two iterations, one for each keyword in `keywords`. On each iteration, it calculates the the relevant information to place in the first $n-1$ rows (per-category means) and last row (overall mean) for that keyword's column."
   ]
  },
  {
   "cell_type": "code",
   "execution_count": null,
   "id": "06b32e2e",
   "metadata": {
    "tags": []
   },
   "outputs": [],
   "source": []
  },
  {
   "cell_type": "code",
   "execution_count": null,
   "id": "8d5df288",
   "metadata": {
    "tags": []
   },
   "outputs": [],
   "source": []
  },
  {
   "cell_type": "markdown",
   "id": "c9c760ba",
   "metadata": {},
   "source": [
    "Run the cell below to call `aggregate_and_combine` to find the mean loan amounts given to those with `'engineer'` in their job title and `'nurse'` in their job title, both overall and separately for each home ownership status. Make sure to run this cell before moving forward, otherwise the tests won't work correctly."
   ]
  },
  {
   "cell_type": "code",
   "execution_count": 199,
   "id": "57602f90",
   "metadata": {},
   "outputs": [],
   "source": [
    "eng_nurse_loan_home = aggregate_and_combine(loans, ['engineer', 'nurse'], 'loan_amnt', 'home_ownership')\n",
    "eng_nurse_loan_home"
   ]
  },
  {
   "cell_type": "code",
   "execution_count": null,
   "id": "fe1c786f",
   "metadata": {
    "deletable": false,
    "editable": false
   },
   "outputs": [],
   "source": [
    "grader.check(\"q9\")"
   ]
  },
  {
   "cell_type": "markdown",
   "id": "6231e060",
   "metadata": {},
   "source": [
    "Let's look at `eng_nurse_loan_home` once again:"
   ]
  },
  {
   "cell_type": "code",
   "execution_count": 207,
   "id": "c52106df",
   "metadata": {},
   "outputs": [],
   "source": [
    "eng_nurse_loan_home"
   ]
  },
  {
   "cell_type": "markdown",
   "id": "949f5a42",
   "metadata": {},
   "source": [
    "**Pay close attention – if you implemented everything correctly, you should see an instance of Simpson's Paradox above!** Across all three categories of home ownership status – `'MORTGAGE'`, `'OWN'`, and `'RENT'` – those with `'engineer'` in their job title received **higher** loan amounts on average than those with `'nurse'` in their job title. But, the average loan amount given to those with `'engineer'` in their job title was **lower** than the average amount given to those with `'nurse'` in their job title."
   ]
  },
  {
   "cell_type": "markdown",
   "id": "cc3a3aa8",
   "metadata": {},
   "source": [
    "### Question 10\n",
    "\n",
    "<a name='Question-10'></a>\n",
    "\n",
    "([return to the outline](#outline))\n",
    "\n",
    "Your task here is two-fold.\n",
    "\n",
    "#### `exists_paradox`\n",
    "\n",
    "Complete the implementation of the function `exists_paradox`, which takes in the same arguments as `aggregate_and_combine` and returns `True` if `aggregate_and_combine(loans, keywords, quantitative_column, categorical_column)` contains an instance of Simpson's Paradox and `False` if not.\n",
    "\n",
    "Note that your implementation should be relatively short. Simpson's Paradox exists when, in the first $n-1$ rows of a DataFrame returned by `aggregate_and_combine`, column A is greater than column B, but in the last row – **which is always the Overall row** – column A is less than column B. This is what we saw with our eyes in `eng_nurse_loan_home`: column A was `'engineer_mean_loan_amnt'` and column B was `'nurse_mean_loan_amnt'`.\n",
    "\n",
    "**Don't** use a `for`-loop here. In fact, our solution was only two lines long.\n",
    "\n",
    "<br>\n",
    "\n",
    "#### `paradox_example`\n",
    "\n",
    "We've already given one example of arguments that can be passed to `exist_paradox` to return `True`, because we saw an instance of Simpson's Paradox when calling `aggregate_and_combine(loans, ['engineer', 'nurse'], 'loan_amnt', 'home_ownership')`.\n",
    "\n",
    "Your final task of the project is to **identify another combination of arguments we can pass to `exists_paradox` such that the output is `True`**. Complete the implementation of the function `paradox_example`, which takes in a DataFrame like `loans` and returns a **dictionary** that follows this format:\n",
    "\n",
    "```py\n",
    "{\n",
    "    'loans': loans,\n",
    "    'keywords': [..., ...],\n",
    "    'quantitative_column': ...,\n",
    "    'categorical_column': ...\n",
    "}\n",
    "```\n",
    "\n",
    "If you implemented `exists_paradox` correctly, then `exists_paradox(**paradox_example(loans))` should return `True`. (The `**` allows us to unpack a dictionary into arguments to call a function with – [read this](https://note.nkmk.me/en/python-argument-expand/#:~:text=source%3A%20argument_expand_list_tuple.py-,Expand%20a%20dictionary%20(dict)%20with%20**,-By%20specifying%20a) if you're curious.)\n",
    "\n",
    "***Note***: You will not receive credit if your `exists_paradox` is the set of arguments we used in Question 9 – that is, you **cannot** use:\n",
    "\n",
    "```py\n",
    "{\n",
    "    'loans': loans,\n",
    "    'keywords': ['engineer', 'nurse'],\n",
    "    'quantitative_column': 'loan_amnt',\n",
    "    'categorical_column': 'home_ownership'\n",
    "}\n",
    "```\n",
    "\n",
    "You also can't just reverse the order of the `'keywords'` key: at least one item (one of the elements in `'keywords'`, `'quantitative_column'`, or `'categorical_column'`) must be different from above.\n",
    "\n",
    "Remember, Simpson's Paradox occurs when the relationship between two variables reverses or disappears when a dataset is aggregated over a third, \"lurking\" variable. Your task is to explore potential lurking variables that might reveal Simpson's Paradox when comparing two groups based on job titles (e.g., `'engineer'` vs. `'manager'`).\n",
    "\n",
    "Initially, test a few combinations manually using the `exists_paradox` function you've created. This should give you a feel for the process. Then, try automating the search. You can do this by iterating over pairs of job titles and categorical variables, using the `exists_paradox` function on each combination."
   ]
  },
  {
   "cell_type": "code",
   "execution_count": null,
   "id": "0790297a",
   "metadata": {
    "tags": []
   },
   "outputs": [],
   "source": []
  },
  {
   "cell_type": "code",
   "execution_count": null,
   "id": "dc2ef978",
   "metadata": {
    "tags": []
   },
   "outputs": [],
   "source": []
  },
  {
   "cell_type": "markdown",
   "id": "449374d1",
   "metadata": {},
   "source": [
    "If you implemented `exists_paradox` correctly, then `exists_paradox(**paradox_example(loans))` should return `True`. Remember to not just copy the arguments from Question 9."
   ]
  },
  {
   "cell_type": "code",
   "execution_count": 210,
   "id": "c61e5f9a",
   "metadata": {},
   "outputs": [],
   "source": [
    "exists_paradox(**paradox_example(loans))"
   ]
  },
  {
   "cell_type": "code",
   "execution_count": null,
   "id": "981d0adb",
   "metadata": {
    "deletable": false,
    "editable": false
   },
   "outputs": [],
   "source": [
    "grader.check(\"q10\")"
   ]
  },
  {
   "cell_type": "markdown",
   "id": "bf9f7e5a",
   "metadata": {},
   "source": [
    "Congrats! You're done with the project.\n",
    "\n",
    "The `loans` dataset is rich, and we've just barely scratched the surface in exploring it. We encourage you to keep digging deeper. Just to illustrate what's possible, run the cell below to create a line plot that depcits the number of loans approved per year for each loan purpose (car loan, medical debt, etc.)."
   ]
  },
  {
   "cell_type": "code",
   "execution_count": 219,
   "id": "24ff360c",
   "metadata": {},
   "outputs": [],
   "source": [
    "def loan_purpose_over_time(loans):\n",
    "    loans = loans.copy()\n",
    "    loan_purpose_yearly = loans.groupby([loans['issue_d'].dt.year, 'purpose']).size().unstack()\n",
    "    loan_purpose_yearly = loan_purpose_yearly.reset_index().melt(id_vars='issue_d', var_name='Purpose', value_name='Frequency')\n",
    "    \n",
    "    fig = px.line(loan_purpose_yearly, x='issue_d', y='Frequency', color='Purpose', title='Trends in Loan Purposes Over Time')\n",
    "    fig.update_xaxes(title_text='Year')\n",
    "    fig.update_yaxes(title_text='Number of Loans')\n",
    "    return fig\n",
    "\n",
    "loan_purpose_over_time(loans)"
   ]
  },
  {
   "cell_type": "markdown",
   "id": "a67a4d5f",
   "metadata": {},
   "source": [
    "## Congratulations, you've finished Project 2! 🎉\n",
    "\n",
    "As a reminder, all of the work you want to submit needs to be in `project.py`.\n",
    "\n",
    "To ensure that all of the work you want to submit is in `project.py`, we've included a script named `project-validation.py` in the project folder. You shouldn't edit it, but instead, you should call it from the command line (e.g. the Terminal) to test your work.\n",
    "\n",
    "Once you've finished the project, you should open the command line and run, in the directory for this project:\n",
    "\n",
    "```\n",
    "python project-validation.py\n",
    "```\n",
    "\n",
    "**This will run all of the `grader.check` cells that you see in this notebook, but only using the code in `project.py` – that is, it doesn't look at any of the code in this notebook. If all of your `grader.check` cells pass in this notebook but not all of them pass in your command line with the above command, then you likely have code in your notebook that isn't in your `project.py`!**\n",
    "\n",
    "You can also use `project-validation.py` to test individual questions. For instance,\n",
    "\n",
    "```\n",
    "python project-validation.py q1 q4 q7 q8\n",
    "```\n",
    "\n",
    "will run the `grader.check` cells for Questions 1, 4, 7, and 8 – again, only using the code in `project.py`.\n",
    "\n",
    "Once `python project-validation.py` shows that you're passing all test cases, you're ready to submit your `project.py` (and only your `project.py`) to Gradescope. Once submitting to Gradescope, make sure to stick around until all test cases pass.\n",
    "\n",
    "There is also a call to `grader.check_all()` below in _this_ notebook, but make sure to also follow the steps above."
   ]
  },
  {
   "cell_type": "code",
   "execution_count": null,
   "id": "0497c2a1",
   "metadata": {},
   "outputs": [],
   "source": []
  },
  {
   "cell_type": "code",
   "execution_count": null,
   "id": "59586b13",
   "metadata": {},
   "outputs": [],
   "source": []
  },
  {
   "cell_type": "code",
   "execution_count": null,
   "id": "c402bcb9",
   "metadata": {},
   "outputs": [],
   "source": []
  },
  {
   "cell_type": "code",
   "execution_count": null,
   "id": "ea6c1bf4",
   "metadata": {},
   "outputs": [],
   "source": []
  },
  {
   "cell_type": "code",
   "execution_count": null,
   "id": "08905832",
   "metadata": {},
   "outputs": [],
   "source": []
  },
  {
   "cell_type": "code",
   "execution_count": null,
   "id": "cd63a231",
   "metadata": {},
   "outputs": [],
   "source": []
  },
  {
   "cell_type": "markdown",
   "id": "65768d74",
   "metadata": {
    "deletable": false,
    "editable": false
   },
   "source": [
    "---\n",
    "\n",
    "To double-check your work, the cell below will rerun all of the autograder tests."
   ]
  },
  {
   "cell_type": "code",
   "execution_count": null,
   "id": "30e78d0a",
   "metadata": {
    "deletable": false,
    "editable": false
   },
   "outputs": [],
   "source": [
    "grader.check_all()"
   ]
  }
 ],
 "metadata": {
  "kernelspec": {
   "display_name": "Python 3 (ipykernel)",
   "language": "python",
   "name": "python3"
  },
  "language_info": {
   "codemirror_mode": {
    "name": "ipython",
    "version": 3
   },
   "file_extension": ".py",
   "mimetype": "text/x-python",
   "name": "python",
   "nbconvert_exporter": "python",
   "pygments_lexer": "ipython3",
   "version": "3.12.11"
  },
  "otter": {
   "tests": {
    "q1": {
     "name": "q1",
     "points": null,
     "suites": [
      {
       "cases": [
        {
         "code": ">>> isinstance(loans, pd.DataFrame) and loans.shape == (6300, 21)\nTrue",
         "hidden": false,
         "locked": false,
         "points": 1
        },
        {
         "code": ">>> type(loans['issue_d'].iloc[0]) == pd._libs.tslibs.timestamps.Timestamp\nTrue",
         "hidden": false,
         "locked": false,
         "points": 1
        },
        {
         "code": ">>> import numbers\n>>> isinstance(loans['term'].iloc[0], numbers.Integral)\nTrue",
         "hidden": false,
         "locked": false,
         "points": 1
        }
       ],
       "scored": true,
       "setup": "",
       "teardown": "",
       "type": "doctest"
      }
     ]
    },
    "q10": {
     "name": "q10",
     "points": null,
     "suites": [
      {
       "cases": [
        {
         "code": ">>> type(exists_paradox(**paradox_example(loans))) == bool\nTrue",
         "hidden": false,
         "locked": false,
         "points": 1
        },
        {
         "code": ">>> list(paradox_example(loans).keys()) == ['loans', 'keywords', 'quantitative_column', 'categorical_column']\nTrue",
         "hidden": false,
         "locked": false,
         "points": 1
        },
        {
         "code": ">>> exists_paradox(loans, ['engineer', 'nurse'], 'loan_amnt', 'home_ownership')\nTrue",
         "hidden": false,
         "locked": false,
         "points": 1
        },
        {
         "code": ">>> exists_paradox(**paradox_example(loans))\nTrue",
         "hidden": false,
         "locked": false,
         "points": 1
        }
       ],
       "scored": true,
       "setup": "",
       "teardown": "",
       "type": "doctest"
      }
     ]
    },
    "q2": {
     "name": "q2",
     "points": null,
     "suites": [
      {
       "cases": [
        {
         "code": ">>> callable(correlations) and isinstance(q2_correlations, pd.Series) and q2_correlations.shape == (4,)\nTrue",
         "hidden": false,
         "locked": false,
         "points": 1
        },
        {
         "code": ">>> type(q2_correlations.iloc[0]) == np.float64 or type(q2_correlations.iloc[0]) == float\nTrue",
         "hidden": false,
         "locked": false,
         "points": 1
        }
       ],
       "scored": true,
       "setup": "",
       "teardown": "",
       "type": "doctest"
      }
     ]
    },
    "q3": {
     "name": "q3",
     "points": null,
     "suites": [
      {
       "cases": [
        {
         "code": ">>> str(type(q3_fig)) == \"<class 'plotly.graph_objs._figure.Figure'>\"\nTrue",
         "hidden": false,
         "locked": false,
         "points": 0.5
        },
        {
         "code": ">>> q3_fig.data[0].type == 'box'\nTrue",
         "hidden": false,
         "locked": false,
         "points": 0.5
        },
        {
         "code": ">>> q3_fig.layout['title']['text'].lower().strip() == 'interest rate vs. credit score'\nTrue",
         "hidden": false,
         "locked": false,
         "points": 1
        },
        {
         "code": ">>> bool((np.sort(np.unique(q3_fig.data[0]['x'])) == np.array(['[580, 670)', '[670, 740)', '[740, 800)', '[800, 850)'])).all())\nTrue",
         "hidden": false,
         "locked": false,
         "points": 1
        },
        {
         "code": ">>> q3_fig.layout['xaxis']['title']['text'].lower().strip() == 'credit score range' \\\n... and q3_fig.layout['yaxis']['title']['text'].lower().strip() == 'interest rate (%)' \\\n... and q3_fig.layout['legend']['title']['text'].lower().strip() == 'loan length (months)'\nTrue",
         "hidden": false,
         "locked": false,
         "points": 1
        },
        {
         "code": ">>> q3_fig.data[0]['marker']['color'] != '#1F77B4' and q3_fig.data[1]['marker']['color'] != '#FF7F0E'\nTrue",
         "hidden": false,
         "locked": false,
         "points": 1
        }
       ],
       "scored": true,
       "setup": "",
       "teardown": "",
       "type": "doctest"
      }
     ]
    },
    "q4": {
     "name": "q4",
     "points": null,
     "suites": [
      {
       "cases": [
        {
         "code": ">>> type(ps_test(loans, 1)) != int\nTrue",
         "hidden": false,
         "locked": false,
         "points": 1
        },
        {
         "code": ">>> type(missingness_mechanism()) == int\nTrue",
         "hidden": false,
         "locked": false,
         "points": 1
        },
        {
         "code": ">>> type(argument_for_nmar()) == str\nTrue",
         "hidden": false,
         "locked": false,
         "points": 1
        }
       ],
       "scored": true,
       "setup": "",
       "teardown": "",
       "type": "doctest"
      }
     ]
    },
    "q5": {
     "name": "q5",
     "points": null,
     "suites": [
      {
       "cases": [
        {
         "code": ">>> example_owed == 11807.5\nTrue",
         "hidden": false,
         "locked": false,
         "points": 1
        }
       ],
       "scored": true,
       "setup": "",
       "teardown": "",
       "type": "doctest"
      }
     ]
    },
    "q6": {
     "name": "q6",
     "points": null,
     "suites": [
      {
       "cases": [
        {
         "code": ">>> type(state_taxes) == pd.DataFrame\nTrue",
         "hidden": false,
         "locked": false,
         "points": 0.5
        },
        {
         "code": ">>> type(state_taxes['State'].iloc[0]) == str\nTrue",
         "hidden": false,
         "locked": false,
         "points": 0.5
        },
        {
         "code": ">>> type(state_taxes['Rate'].iloc[-1]) == np.float64 or type(state_taxes['Rate'].iloc[-1]) == float\nTrue",
         "hidden": false,
         "locked": false,
         "points": 0.5
        },
        {
         "code": ">>> import numbers\n>>> isinstance(state_taxes['Lower Limit'].iloc[-1], numbers.Integral)\nTrue",
         "hidden": false,
         "locked": false,
         "points": 0.5
        },
        {
         "code": ">>> state_taxes.shape == (182, 3)\nTrue",
         "hidden": false,
         "locked": false,
         "points": 2
        }
       ],
       "scored": true,
       "setup": "",
       "teardown": "",
       "type": "doctest"
      }
     ]
    },
    "q7": {
     "name": "q7",
     "points": null,
     "suites": [
      {
       "cases": [
        {
         "code": ">>> type(state_brackets(state_taxes)) == pd.DataFrame\nTrue",
         "hidden": false,
         "locked": false,
         "points": 0.5
        },
        {
         "code": ">>> row = state_brackets(state_taxes)['bracket_list'].iloc[0]\n>>> isinstance(row, list) and all([isinstance(ele, tuple) for ele in row])\nTrue",
         "hidden": false,
         "locked": false,
         "points": 0.5
        },
        {
         "code": ">>> 'MN' in loans_with_state_taxes['State'].tolist()\nTrue",
         "hidden": false,
         "locked": false,
         "points": 0.5
        },
        {
         "code": ">>> loans_with_state_taxes.shape == (6300, 22)\nTrue",
         "hidden": false,
         "locked": false,
         "points": 0.5
        }
       ],
       "scored": true,
       "setup": "",
       "teardown": "",
       "type": "doctest"
      }
     ]
    },
    "q8": {
     "name": "q8",
     "points": null,
     "suites": [
      {
       "cases": [
        {
         "code": ">>> with_disposable_income.shape == (6300, 25)\nTrue",
         "hidden": false,
         "locked": false,
         "points": 1
        },
        {
         "code": ">>> with_disposable_income[['federal_tax_owed', 'state_tax_owed', 'disposable_income']].iloc[7].dtype == np.float64\nTrue",
         "hidden": false,
         "locked": false,
         "points": 1
        }
       ],
       "scored": true,
       "setup": "",
       "teardown": "",
       "type": "doctest"
      }
     ]
    },
    "q9": {
     "name": "q9",
     "points": null,
     "suites": [
      {
       "cases": [
        {
         "code": ">>> eng_nurse_loan_home.shape == (4, 2)\nTrue",
         "hidden": false,
         "locked": false,
         "points": 1
        },
        {
         "code": ">>> all(eng_nurse_loan_home.columns == ['engineer_mean_loan_amnt', 'nurse_mean_loan_amnt'])\nTrue",
         "hidden": false,
         "locked": false,
         "points": 1
        },
        {
         "code": ">>> bool(np.isclose(eng_nurse_loan_home.iloc[-1, 0], 16341.735880398672) and np.isclose(eng_nurse_loan_home.iloc[-2, 1], 14358.86))\nTrue",
         "hidden": false,
         "locked": false,
         "points": 2
        }
       ],
       "scored": true,
       "setup": "",
       "teardown": "",
       "type": "doctest"
      }
     ]
    }
   }
  }
 },
 "nbformat": 4,
 "nbformat_minor": 5
}
